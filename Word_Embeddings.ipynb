{
  "nbformat": 4,
  "nbformat_minor": 0,
  "metadata": {
    "colab": {
      "provenance": [],
      "authorship_tag": "ABX9TyPcKRcTSPs324XuWysZxjTG",
      "include_colab_link": true
    },
    "kernelspec": {
      "name": "python3",
      "display_name": "Python 3"
    },
    "language_info": {
      "name": "python"
    }
  },
  "cells": [
    {
      "cell_type": "markdown",
      "metadata": {
        "id": "view-in-github",
        "colab_type": "text"
      },
      "source": [
        "<a href=\"https://colab.research.google.com/github/brandonowens24/Word_Embeddings/blob/main/Word_Embeddings.ipynb\" target=\"_parent\"><img src=\"https://colab.research.google.com/assets/colab-badge.svg\" alt=\"Open In Colab\"/></a>"
      ]
    },
    {
      "cell_type": "markdown",
      "source": [
        "#Assignment 2: Word_Embeddings"
      ],
      "metadata": {
        "id": "0NiRk-ZHoztl"
      }
    },
    {
      "cell_type": "markdown",
      "source": [
        "##Task 2.1 Obtaining Dataset"
      ],
      "metadata": {
        "id": "TT6JNgpcpcIS"
      }
    },
    {
      "cell_type": "markdown",
      "source": [
        "**Installing Necessary Modules for Obtaining Word Embeddings**"
      ],
      "metadata": {
        "id": "5Bb7xOjMokKL"
      }
    },
    {
      "cell_type": "code",
      "source": [
        "# Install Necessary Modules\n",
        "! pip install --upgrade gensim\n",
        "! pip install datasets\n",
        "! pip install apache_beam"
      ],
      "metadata": {
        "id": "KEi9HNT08VYM",
        "colab": {
          "base_uri": "https://localhost:8080/"
        },
        "outputId": "eec547fc-7a85-4ff7-a397-c4208228fa63"
      },
      "execution_count": 2,
      "outputs": [
        {
          "output_type": "stream",
          "name": "stdout",
          "text": [
            "Requirement already satisfied: gensim in /usr/local/lib/python3.10/dist-packages (4.3.2)\n",
            "Requirement already satisfied: numpy>=1.18.5 in /usr/local/lib/python3.10/dist-packages (from gensim) (1.24.4)\n",
            "Requirement already satisfied: scipy>=1.7.0 in /usr/local/lib/python3.10/dist-packages (from gensim) (1.11.4)\n",
            "Requirement already satisfied: smart-open>=1.8.1 in /usr/local/lib/python3.10/dist-packages (from gensim) (6.4.0)\n",
            "Requirement already satisfied: datasets in /usr/local/lib/python3.10/dist-packages (2.17.1)\n",
            "Requirement already satisfied: filelock in /usr/local/lib/python3.10/dist-packages (from datasets) (3.13.1)\n",
            "Requirement already satisfied: numpy>=1.17 in /usr/local/lib/python3.10/dist-packages (from datasets) (1.24.4)\n",
            "Requirement already satisfied: pyarrow>=12.0.0 in /usr/local/lib/python3.10/dist-packages (from datasets) (14.0.2)\n",
            "Requirement already satisfied: pyarrow-hotfix in /usr/local/lib/python3.10/dist-packages (from datasets) (0.6)\n",
            "Requirement already satisfied: dill<0.3.9,>=0.3.0 in /usr/local/lib/python3.10/dist-packages (from datasets) (0.3.1.1)\n",
            "Requirement already satisfied: pandas in /usr/local/lib/python3.10/dist-packages (from datasets) (1.5.3)\n",
            "Requirement already satisfied: requests>=2.19.0 in /usr/local/lib/python3.10/dist-packages (from datasets) (2.31.0)\n",
            "Requirement already satisfied: tqdm>=4.62.1 in /usr/local/lib/python3.10/dist-packages (from datasets) (4.66.2)\n",
            "Requirement already satisfied: xxhash in /usr/local/lib/python3.10/dist-packages (from datasets) (3.4.1)\n",
            "Requirement already satisfied: multiprocess in /usr/local/lib/python3.10/dist-packages (from datasets) (0.70.16)\n",
            "Requirement already satisfied: fsspec[http]<=2023.10.0,>=2023.1.0 in /usr/local/lib/python3.10/dist-packages (from datasets) (2023.6.0)\n",
            "Requirement already satisfied: aiohttp in /usr/local/lib/python3.10/dist-packages (from datasets) (3.9.3)\n",
            "Requirement already satisfied: huggingface-hub>=0.19.4 in /usr/local/lib/python3.10/dist-packages (from datasets) (0.20.3)\n",
            "Requirement already satisfied: packaging in /usr/local/lib/python3.10/dist-packages (from datasets) (23.2)\n",
            "Requirement already satisfied: pyyaml>=5.1 in /usr/local/lib/python3.10/dist-packages (from datasets) (6.0.1)\n",
            "Requirement already satisfied: aiosignal>=1.1.2 in /usr/local/lib/python3.10/dist-packages (from aiohttp->datasets) (1.3.1)\n",
            "Requirement already satisfied: attrs>=17.3.0 in /usr/local/lib/python3.10/dist-packages (from aiohttp->datasets) (23.2.0)\n",
            "Requirement already satisfied: frozenlist>=1.1.1 in /usr/local/lib/python3.10/dist-packages (from aiohttp->datasets) (1.4.1)\n",
            "Requirement already satisfied: multidict<7.0,>=4.5 in /usr/local/lib/python3.10/dist-packages (from aiohttp->datasets) (6.0.5)\n",
            "Requirement already satisfied: yarl<2.0,>=1.0 in /usr/local/lib/python3.10/dist-packages (from aiohttp->datasets) (1.9.4)\n",
            "Requirement already satisfied: async-timeout<5.0,>=4.0 in /usr/local/lib/python3.10/dist-packages (from aiohttp->datasets) (4.0.3)\n",
            "Requirement already satisfied: typing-extensions>=3.7.4.3 in /usr/local/lib/python3.10/dist-packages (from huggingface-hub>=0.19.4->datasets) (4.9.0)\n",
            "Requirement already satisfied: charset-normalizer<4,>=2 in /usr/local/lib/python3.10/dist-packages (from requests>=2.19.0->datasets) (3.3.2)\n",
            "Requirement already satisfied: idna<4,>=2.5 in /usr/local/lib/python3.10/dist-packages (from requests>=2.19.0->datasets) (3.6)\n",
            "Requirement already satisfied: urllib3<3,>=1.21.1 in /usr/local/lib/python3.10/dist-packages (from requests>=2.19.0->datasets) (2.0.7)\n",
            "Requirement already satisfied: certifi>=2017.4.17 in /usr/local/lib/python3.10/dist-packages (from requests>=2.19.0->datasets) (2024.2.2)\n",
            "Collecting dill<0.3.9,>=0.3.0 (from datasets)\n",
            "  Using cached dill-0.3.8-py3-none-any.whl (116 kB)\n",
            "Requirement already satisfied: python-dateutil>=2.8.1 in /usr/local/lib/python3.10/dist-packages (from pandas->datasets) (2.8.2)\n",
            "Requirement already satisfied: pytz>=2020.1 in /usr/local/lib/python3.10/dist-packages (from pandas->datasets) (2023.4)\n",
            "Requirement already satisfied: six>=1.5 in /usr/local/lib/python3.10/dist-packages (from python-dateutil>=2.8.1->pandas->datasets) (1.16.0)\n",
            "Installing collected packages: dill\n",
            "  Attempting uninstall: dill\n",
            "    Found existing installation: dill 0.3.1.1\n",
            "    Uninstalling dill-0.3.1.1:\n",
            "      Successfully uninstalled dill-0.3.1.1\n",
            "\u001b[31mERROR: pip's dependency resolver does not currently take into account all the packages that are installed. This behaviour is the source of the following dependency conflicts.\n",
            "apache-beam 2.54.0 requires dill<0.3.2,>=0.3.1.1, but you have dill 0.3.8 which is incompatible.\u001b[0m\u001b[31m\n",
            "\u001b[0mSuccessfully installed dill-0.3.8\n",
            "Requirement already satisfied: apache_beam in /usr/local/lib/python3.10/dist-packages (2.54.0)\n",
            "Requirement already satisfied: crcmod<2.0,>=1.7 in /usr/local/lib/python3.10/dist-packages (from apache_beam) (1.7)\n",
            "Requirement already satisfied: orjson<4,>=3.9.7 in /usr/local/lib/python3.10/dist-packages (from apache_beam) (3.9.15)\n",
            "Collecting dill<0.3.2,>=0.3.1.1 (from apache_beam)\n",
            "  Using cached dill-0.3.1.1-py3-none-any.whl\n",
            "Requirement already satisfied: cloudpickle~=2.2.1 in /usr/local/lib/python3.10/dist-packages (from apache_beam) (2.2.1)\n",
            "Requirement already satisfied: fastavro<2,>=0.23.6 in /usr/local/lib/python3.10/dist-packages (from apache_beam) (1.9.4)\n",
            "Requirement already satisfied: fasteners<1.0,>=0.3 in /usr/local/lib/python3.10/dist-packages (from apache_beam) (0.19)\n",
            "Requirement already satisfied: grpcio!=1.48.0,<2,>=1.33.1 in /usr/local/lib/python3.10/dist-packages (from apache_beam) (1.60.1)\n",
            "Requirement already satisfied: hdfs<3.0.0,>=2.1.0 in /usr/local/lib/python3.10/dist-packages (from apache_beam) (2.7.3)\n",
            "Requirement already satisfied: httplib2<0.23.0,>=0.8 in /usr/local/lib/python3.10/dist-packages (from apache_beam) (0.22.0)\n",
            "Requirement already satisfied: js2py<1,>=0.74 in /usr/local/lib/python3.10/dist-packages (from apache_beam) (0.74)\n",
            "Requirement already satisfied: jsonschema<5.0.0,>=4.0.0 in /usr/local/lib/python3.10/dist-packages (from apache_beam) (4.19.2)\n",
            "Requirement already satisfied: jsonpickle<4.0.0,>=3.0.0 in /usr/local/lib/python3.10/dist-packages (from apache_beam) (3.0.2)\n",
            "Requirement already satisfied: numpy<1.25.0,>=1.14.3 in /usr/local/lib/python3.10/dist-packages (from apache_beam) (1.24.4)\n",
            "Requirement already satisfied: objsize<0.8.0,>=0.6.1 in /usr/local/lib/python3.10/dist-packages (from apache_beam) (0.7.0)\n",
            "Requirement already satisfied: packaging>=22.0 in /usr/local/lib/python3.10/dist-packages (from apache_beam) (23.2)\n",
            "Requirement already satisfied: pymongo<5.0.0,>=3.8.0 in /usr/local/lib/python3.10/dist-packages (from apache_beam) (4.6.2)\n",
            "Requirement already satisfied: proto-plus<2,>=1.7.1 in /usr/local/lib/python3.10/dist-packages (from apache_beam) (1.23.0)\n",
            "Requirement already satisfied: protobuf!=4.0.*,!=4.21.*,!=4.22.0,!=4.23.*,!=4.24.*,<4.26.0,>=3.20.3 in /usr/local/lib/python3.10/dist-packages (from apache_beam) (3.20.3)\n",
            "Requirement already satisfied: pydot<2,>=1.2.0 in /usr/local/lib/python3.10/dist-packages (from apache_beam) (1.4.2)\n",
            "Requirement already satisfied: python-dateutil<3,>=2.8.0 in /usr/local/lib/python3.10/dist-packages (from apache_beam) (2.8.2)\n",
            "Requirement already satisfied: pytz>=2018.3 in /usr/local/lib/python3.10/dist-packages (from apache_beam) (2023.4)\n",
            "Requirement already satisfied: regex>=2020.6.8 in /usr/local/lib/python3.10/dist-packages (from apache_beam) (2023.12.25)\n",
            "Requirement already satisfied: requests<3.0.0,>=2.24.0 in /usr/local/lib/python3.10/dist-packages (from apache_beam) (2.31.0)\n",
            "Requirement already satisfied: typing-extensions>=3.7.0 in /usr/local/lib/python3.10/dist-packages (from apache_beam) (4.9.0)\n",
            "Requirement already satisfied: zstandard<1,>=0.18.0 in /usr/local/lib/python3.10/dist-packages (from apache_beam) (0.22.0)\n",
            "Requirement already satisfied: pyarrow<15.0.0,>=3.0.0 in /usr/local/lib/python3.10/dist-packages (from apache_beam) (14.0.2)\n",
            "Requirement already satisfied: pyarrow-hotfix<1 in /usr/local/lib/python3.10/dist-packages (from apache_beam) (0.6)\n",
            "Requirement already satisfied: docopt in /usr/local/lib/python3.10/dist-packages (from hdfs<3.0.0,>=2.1.0->apache_beam) (0.6.2)\n",
            "Requirement already satisfied: six>=1.9.0 in /usr/local/lib/python3.10/dist-packages (from hdfs<3.0.0,>=2.1.0->apache_beam) (1.16.0)\n",
            "Requirement already satisfied: pyparsing!=3.0.0,!=3.0.1,!=3.0.2,!=3.0.3,<4,>=2.4.2 in /usr/local/lib/python3.10/dist-packages (from httplib2<0.23.0,>=0.8->apache_beam) (3.1.1)\n",
            "Requirement already satisfied: tzlocal>=1.2 in /usr/local/lib/python3.10/dist-packages (from js2py<1,>=0.74->apache_beam) (5.2)\n",
            "Requirement already satisfied: pyjsparser>=2.5.1 in /usr/local/lib/python3.10/dist-packages (from js2py<1,>=0.74->apache_beam) (2.7.1)\n",
            "Requirement already satisfied: attrs>=22.2.0 in /usr/local/lib/python3.10/dist-packages (from jsonschema<5.0.0,>=4.0.0->apache_beam) (23.2.0)\n",
            "Requirement already satisfied: jsonschema-specifications>=2023.03.6 in /usr/local/lib/python3.10/dist-packages (from jsonschema<5.0.0,>=4.0.0->apache_beam) (2023.12.1)\n",
            "Requirement already satisfied: referencing>=0.28.4 in /usr/local/lib/python3.10/dist-packages (from jsonschema<5.0.0,>=4.0.0->apache_beam) (0.33.0)\n",
            "Requirement already satisfied: rpds-py>=0.7.1 in /usr/local/lib/python3.10/dist-packages (from jsonschema<5.0.0,>=4.0.0->apache_beam) (0.18.0)\n",
            "Requirement already satisfied: dnspython<3.0.0,>=1.16.0 in /usr/local/lib/python3.10/dist-packages (from pymongo<5.0.0,>=3.8.0->apache_beam) (2.6.1)\n",
            "Requirement already satisfied: charset-normalizer<4,>=2 in /usr/local/lib/python3.10/dist-packages (from requests<3.0.0,>=2.24.0->apache_beam) (3.3.2)\n",
            "Requirement already satisfied: idna<4,>=2.5 in /usr/local/lib/python3.10/dist-packages (from requests<3.0.0,>=2.24.0->apache_beam) (3.6)\n",
            "Requirement already satisfied: urllib3<3,>=1.21.1 in /usr/local/lib/python3.10/dist-packages (from requests<3.0.0,>=2.24.0->apache_beam) (2.0.7)\n",
            "Requirement already satisfied: certifi>=2017.4.17 in /usr/local/lib/python3.10/dist-packages (from requests<3.0.0,>=2.24.0->apache_beam) (2024.2.2)\n",
            "Installing collected packages: dill\n",
            "  Attempting uninstall: dill\n",
            "    Found existing installation: dill 0.3.8\n",
            "    Uninstalling dill-0.3.8:\n",
            "      Successfully uninstalled dill-0.3.8\n",
            "\u001b[31mERROR: pip's dependency resolver does not currently take into account all the packages that are installed. This behaviour is the source of the following dependency conflicts.\n",
            "multiprocess 0.70.16 requires dill>=0.3.8, but you have dill 0.3.1.1 which is incompatible.\u001b[0m\u001b[31m\n",
            "\u001b[0mSuccessfully installed dill-0.3.1.1\n"
          ]
        }
      ]
    },
    {
      "cell_type": "markdown",
      "source": [
        "**Grabbing Wikipedia Data from Huggingface**"
      ],
      "metadata": {
        "id": "wQ_8ue7-osSC"
      }
    },
    {
      "cell_type": "code",
      "execution_count": 3,
      "metadata": {
        "id": "k2nLVxP2jEPg",
        "colab": {
          "base_uri": "https://localhost:8080/"
        },
        "outputId": "36802aed-b12e-447a-9225-20be54083a7f"
      },
      "outputs": [
        {
          "output_type": "stream",
          "name": "stderr",
          "text": [
            "/usr/local/lib/python3.10/dist-packages/huggingface_hub/utils/_token.py:88: UserWarning: \n",
            "The secret `HF_TOKEN` does not exist in your Colab secrets.\n",
            "To authenticate with the Hugging Face Hub, create a token in your settings tab (https://huggingface.co/settings/tokens), set it as secret in your Google Colab and restart your session.\n",
            "You will be able to reuse this secret in all of your notebooks.\n",
            "Please note that authentication is recommended but still optional to access public models or datasets.\n",
            "  warnings.warn(\n",
            "/usr/local/lib/python3.10/dist-packages/datasets/load.py:1454: FutureWarning: The repository for wikipedia contains custom code which must be executed to correctly load the dataset. You can inspect the repository content at https://hf.co/datasets/wikipedia\n",
            "You can avoid this message in future by passing the argument `trust_remote_code=True`.\n",
            "Passing `trust_remote_code=True` will be mandatory to load this dataset from the next major release of `datasets`.\n",
            "  warnings.warn(\n"
          ]
        }
      ],
      "source": [
        "from datasets import load_dataset\n",
        "from tqdm import tqdm\n",
        "\n",
        "# Grab Dataset from Huggingface\n",
        "dataset = load_dataset(\"wikipedia\", \"20220301.simple\")\n",
        "documents = dataset['train']['text']\n"
      ]
    },
    {
      "cell_type": "markdown",
      "source": [
        "**Creating a Basic Tokenization Function**"
      ],
      "metadata": {
        "id": "fO8EtcVao53X"
      }
    },
    {
      "cell_type": "code",
      "source": [
        "import nltk\n",
        "nltk.download('punkt')\n",
        "import string\n",
        "\n",
        "def tokenize(document):\n",
        "    doc_tokens = []\n",
        "    sentences = nltk.sent_tokenize(document)\n",
        "    for sentence in sentences:\n",
        "        sent_tokens = nltk.word_tokenize(sentence)\n",
        "        sent_tokens = [word.lower() for word in sent_tokens if word]\n",
        "        doc_tokens += [sent_tokens]\n",
        "    return doc_tokens\n"
      ],
      "metadata": {
        "id": "mFYb5S0O-1v6",
        "colab": {
          "base_uri": "https://localhost:8080/"
        },
        "outputId": "409097a4-4282-4604-fb80-302268e83f11"
      },
      "execution_count": 4,
      "outputs": [
        {
          "output_type": "stream",
          "name": "stderr",
          "text": [
            "[nltk_data] Downloading package punkt to /root/nltk_data...\n",
            "[nltk_data]   Package punkt is already up-to-date!\n"
          ]
        }
      ]
    },
    {
      "cell_type": "markdown",
      "source": [
        "**Tokenizing All Wikipedia Rows in the Dataset**"
      ],
      "metadata": {
        "id": "CcFRzxRBpAoQ"
      }
    },
    {
      "cell_type": "code",
      "source": [
        "# Word2Vec in gensim wants lists of lists of tokens for sentences\n",
        "all_sent_tokenized = []\n",
        "\n",
        "for document in tqdm(documents):\n",
        "  doc_tokens = tokenize(document)\n",
        "  all_sent_tokenized += doc_tokens"
      ],
      "metadata": {
        "id": "fWgGt9RqVt7b",
        "colab": {
          "base_uri": "https://localhost:8080/"
        },
        "outputId": "64154932-0a35-4b27-b4e4-6cfbdba49507"
      },
      "execution_count": 4,
      "outputs": [
        {
          "output_type": "stream",
          "name": "stderr",
          "text": [
            "100%|██████████| 205328/205328 [07:55<00:00, 431.57it/s]\n"
          ]
        }
      ]
    },
    {
      "cell_type": "markdown",
      "source": [
        "Gensim Word2Vec wants all of the sentences for the model in a list of lists of tokens format."
      ],
      "metadata": {
        "id": "8ddRGB0CpGZ_"
      }
    },
    {
      "cell_type": "markdown",
      "source": [
        "##Task 2.2 Training Word Embeddings\n"
      ],
      "metadata": {
        "id": "SX4DG1EcpjZP"
      }
    },
    {
      "cell_type": "markdown",
      "source": [
        "**Creating Models and Loading in Pretrained Models**"
      ],
      "metadata": {
        "id": "OB9I_V4PpMz3"
      }
    },
    {
      "cell_type": "code",
      "source": [
        "from gensim.models import Word2Vec\n",
        "import gensim.downloader as api\n",
        "\n",
        "# # CBOW\n",
        "# model_CBOW = Word2Vec(sentences=all_sent_tokenized, vector_size=300, window=3, workers=2, hs=1, negative=0, epochs=50, compute_loss=True)\n",
        "# model_CBOW.save(\"CBOWword2vec.model\")\n",
        "\n",
        "# # Skip_Gram\n",
        "# model_SG = Word2Vec(sentences=all_sent_tokenized, vector_size=300, window=3, workers=2, sg=1, hs=1, negative=0, epochs=50, compute_loss=True)\n",
        "# model_SG.save(\"SGword2vec.model\")\n",
        "\n",
        "# Glove\n",
        "glove_model = api.load('glove-wiki-gigaword-50')\n",
        "glove_model.save(\"glove.model\")\n",
        "\n",
        "# Google\n",
        "google_model = api.load('word2vec-google-news-300')\n",
        "google_model.save(\"google.model\")\n"
      ],
      "metadata": {
        "id": "9Mbw7bTXTOKK"
      },
      "execution_count": 5,
      "outputs": []
    },
    {
      "cell_type": "markdown",
      "source": [
        "Training time for CBOW ~ 1.5 hours\n",
        "Training time for SG ~ 3.5 hours\n",
        "\n",
        "They have been saved and downloaded.\n",
        "Must still load in google and glove models for comparison."
      ],
      "metadata": {
        "id": "w3cE7FBBrsrh"
      }
    },
    {
      "cell_type": "markdown",
      "source": [
        "**Downloading Model for Personal Use**"
      ],
      "metadata": {
        "id": "3_QYA5mIpSFb"
      }
    },
    {
      "cell_type": "code",
      "source": [
        "from google.colab import files\n",
        "# files.download('CBOWword2vec.model')\n",
        "# files.download('CBOWword2vec.model.syn1.npy')\n",
        "# files.download('CBOWword2vec.model.wv.vectors.npy')\n",
        "# files.download('SGword2vec.model')\n",
        "# files.download('SGword2vec.model.syn1.npy')\n",
        "# files.download('SGword2vec.model.wv.vectors.npy')\n",
        "CBOWmodel = Word2Vec.load(\"CBOWword2vec.model\")\n",
        "SGmodel = Word2Vec.load(\"SGword2vec.model\")\n",
        "\n"
      ],
      "metadata": {
        "id": "6TQbYKZMnxcT"
      },
      "execution_count": 6,
      "outputs": []
    },
    {
      "cell_type": "markdown",
      "source": [
        "This was to avoid re-training my models that were created."
      ],
      "metadata": {
        "id": "-iyr_DOMpVZ7"
      }
    },
    {
      "cell_type": "markdown",
      "source": [
        "##Task 2.3 Comparing Word Embeddings with Queries"
      ],
      "metadata": {
        "id": "uMcD0RJmpoFq"
      }
    },
    {
      "cell_type": "code",
      "source": [
        "# QUERY 1 (Most Similar Words and Their Similarity Scores To: \"calculator\")\n",
        "print(\"CBOW Model: \", CBOWmodel.wv.most_similar('calculator')[:3])\n",
        "print(\"SG Model: \", SGmodel.wv.most_similar('calculator')[:3])\n",
        "print(\"Glove Model: \", glove_model.most_similar('calculator')[:3])\n",
        "print(\"Google Model: \", google_model.most_similar('calculator')[:3])"
      ],
      "metadata": {
        "id": "QTHANY1gY1gA",
        "colab": {
          "base_uri": "https://localhost:8080/"
        },
        "outputId": "a9a4ecf4-c634-4e53-bd2d-1729205a2404"
      },
      "execution_count": 7,
      "outputs": [
        {
          "output_type": "stream",
          "name": "stdout",
          "text": [
            "CBOW Model:  [('calculators', 0.3898669481277466), ('computer', 0.34476712346076965), ('device', 0.3213653266429901)]\n",
            "SG Model:  [('calculators', 0.5116651654243469), ('computer', 0.39925017952919006), ('device', 0.39494720101356506)]\n",
            "Glove Model:  [('calculators', 0.8655334711074829), ('graphing', 0.7849180102348328), ('computerized', 0.6740948557853699)]\n",
            "Google Model:  [('calculators', 0.7862768769264221), ('Calculator', 0.7237094640731812), ('Calculators', 0.5793079137802124)]\n"
          ]
        }
      ]
    },
    {
      "cell_type": "code",
      "source": [
        "# QUERY 2 (\"faster\" - \"fast\" + \"strong\" = )\n",
        "\n",
        "print(\"CBOW Model: \", CBOWmodel.wv.most_similar(positive=['faster', 'strong'], negative=['fast'], topn=3))\n",
        "print(\"SG Model: \", SGmodel.wv.most_similar(positive=['faster', 'strong'], negative=['fast'], topn=3))\n",
        "print(\"Glove Model: \", glove_model.most_similar(positive=['faster', 'strong'], negative=['fast'], topn=3))\n",
        "print(\"Google Model: \", google_model.most_similar(positive=['faster', 'strong'], negative=['fast'], topn=3))"
      ],
      "metadata": {
        "id": "txC_WWZjhd-5",
        "colab": {
          "base_uri": "https://localhost:8080/"
        },
        "outputId": "c48036f5-bef9-473e-b681-f912433fccb1"
      },
      "execution_count": 8,
      "outputs": [
        {
          "output_type": "stream",
          "name": "stdout",
          "text": [
            "CBOW Model:  [('stronger', 0.679090678691864), ('bigger', 0.5708271265029907), ('less', 0.5614640712738037)]\n",
            "SG Model:  [('stronger', 0.6459370851516724), ('weaker', 0.5052216053009033), ('weak', 0.48325246572494507)]\n",
            "Glove Model:  [('stronger', 0.856702983379364), ('strength', 0.7947880625724792), ('contrast', 0.7903764843940735)]\n",
            "Google Model:  [('stronger', 0.7650706171989441), ('weaker', 0.6070874333381653), ('better', 0.5499424338340759)]\n"
          ]
        }
      ]
    },
    {
      "cell_type": "code",
      "source": [
        "# QUERY 3 (\"england\" - \"london\" + \"madrid\" = )\n",
        "\n",
        "print(\"CBOW Model: \", CBOWmodel.wv.most_similar_cosmul(positive=['madrid', 'england'], negative=['london'], topn=3))\n",
        "print(\"SG Model: \", SGmodel.wv.most_similar(positive=['madrid', 'england'], negative=['london'], topn=3 ))\n",
        "print(\"Glove Model: \", glove_model.most_similar(positive=['madrid', 'england'], negative=['london'], topn=3))\n",
        "print(\"Google Model: \", google_model.most_similar(positive=['Madrid', 'England'], negative=['London'], topn=3))"
      ],
      "metadata": {
        "id": "LnAKww6tT3Rn",
        "colab": {
          "base_uri": "https://localhost:8080/"
        },
        "outputId": "e50ab5d0-df8b-4976-c73e-105e6a9979b8"
      },
      "execution_count": 9,
      "outputs": [
        {
          "output_type": "stream",
          "name": "stdout",
          "text": [
            "CBOW Model:  [('spain', 0.8290620446205139), ('portugal', 0.797576367855072), ('navarre', 0.7728044390678406)]\n",
            "SG Model:  [('spain', 0.6017550230026245), ('zaragoza', 0.5119850635528564), ('valladolid', 0.503682017326355)]\n",
            "Glove Model:  [('valencia', 0.8629282116889954), ('sevilla', 0.8293460607528687), ('juventus', 0.8229055404663086)]\n",
            "Google Model:  [('Spain', 0.6087851524353027), ('Paraguay', 0.570982813835144), ('Real_Madrid', 0.5681555867195129)]\n"
          ]
        }
      ]
    },
    {
      "cell_type": "code",
      "source": [
        "# QUERY 4 (Which Doesn't Belong: 'finance', 'business', 'market', 'candle', 'stock')\n",
        "\n",
        "print(\"CBOW Model: \", CBOWmodel.wv.doesnt_match(['finance', 'business', 'market', 'candle', 'stock']))\n",
        "print(\"SG Model: \", SGmodel.wv.doesnt_match(['finance', 'business', 'market', 'candle', 'stock']))\n",
        "print(\"Glove Model: \", glove_model.doesnt_match(['finance', 'business', 'market', 'candle', 'stock']))\n",
        "print(\"Google Model: \", google_model.doesnt_match(['finance', 'business', 'market', 'candle', 'stock']))"
      ],
      "metadata": {
        "id": "B1vIIh8uXA3g",
        "colab": {
          "base_uri": "https://localhost:8080/"
        },
        "outputId": "ccf35962-303a-4023-ec0b-cbc2351daba6"
      },
      "execution_count": 10,
      "outputs": [
        {
          "output_type": "stream",
          "name": "stdout",
          "text": [
            "CBOW Model:  candle\n",
            "SG Model:  candle\n",
            "Glove Model:  candle\n",
            "Google Model:  candle\n"
          ]
        }
      ]
    },
    {
      "cell_type": "code",
      "source": [
        "# QUERY 5 (Testing Similarity Scores of Two Sentences: \"I picked you up from the airport\" and \"I got you from your flight yesterday\")\n",
        "\n",
        "print(\"CBOW Model: \", CBOWmodel.wv.n_similarity( \"I picked you up from the airport\".split(), \"I got you from your flight yesterday\".split()))\n",
        "print(\"SG Model: \", SGmodel.wv.n_similarity( \"I picked you up from the airport\".split(), \"I got you from your flight yesterday\".split()))\n",
        "print(\"Glove Model: \", glove_model.n_similarity( \"I picked you up from the airport\".split(), \"I got you from your flight yesterday\".split()))\n",
        "print(\"Google Model: \", google_model.n_similarity( \"I picked you up from the airport\".split(), \"I got you from your flight yesterday\".split()))"
      ],
      "metadata": {
        "id": "Vx0MGeWoUlD6",
        "colab": {
          "base_uri": "https://localhost:8080/"
        },
        "outputId": "91554fa5-ebf3-49ac-9aef-eabbaa0a9606"
      },
      "execution_count": 11,
      "outputs": [
        {
          "output_type": "stream",
          "name": "stdout",
          "text": [
            "CBOW Model:  0.42999092\n",
            "SG Model:  0.52923405\n",
            "Glove Model:  0.93611217\n",
            "Google Model:  0.8180603\n"
          ]
        }
      ]
    },
    {
      "cell_type": "markdown",
      "source": [
        "##Task 2.4: Bias in Word Embeddings"
      ],
      "metadata": {
        "id": "_Qx25Mx4ptQw"
      }
    },
    {
      "cell_type": "code",
      "source": [
        "! pip install wefe"
      ],
      "metadata": {
        "id": "ruBAAUNdW9-D",
        "colab": {
          "base_uri": "https://localhost:8080/"
        },
        "outputId": "890ccb57-ff75-47cd-8031-961b1125aa83"
      },
      "execution_count": 12,
      "outputs": [
        {
          "output_type": "stream",
          "name": "stdout",
          "text": [
            "Requirement already satisfied: wefe in /usr/local/lib/python3.10/dist-packages (0.4.1)\n",
            "Requirement already satisfied: numpy in /usr/local/lib/python3.10/dist-packages (from wefe) (1.24.4)\n",
            "Requirement already satisfied: scipy in /usr/local/lib/python3.10/dist-packages (from wefe) (1.11.4)\n",
            "Requirement already satisfied: scikit-learn in /usr/local/lib/python3.10/dist-packages (from wefe) (1.2.2)\n",
            "Requirement already satisfied: pandas in /usr/local/lib/python3.10/dist-packages (from wefe) (1.5.3)\n",
            "Requirement already satisfied: gensim in /usr/local/lib/python3.10/dist-packages (from wefe) (4.3.2)\n",
            "Requirement already satisfied: plotly in /usr/local/lib/python3.10/dist-packages (from wefe) (5.15.0)\n",
            "Requirement already satisfied: six in /usr/local/lib/python3.10/dist-packages (from wefe) (1.16.0)\n",
            "Requirement already satisfied: requests in /usr/local/lib/python3.10/dist-packages (from wefe) (2.31.0)\n",
            "Requirement already satisfied: semantic-version in /usr/local/lib/python3.10/dist-packages (from wefe) (2.10.0)\n",
            "Requirement already satisfied: tqdm in /usr/local/lib/python3.10/dist-packages (from wefe) (4.66.2)\n",
            "Requirement already satisfied: smart-open>=1.8.1 in /usr/local/lib/python3.10/dist-packages (from gensim->wefe) (6.4.0)\n",
            "Requirement already satisfied: python-dateutil>=2.8.1 in /usr/local/lib/python3.10/dist-packages (from pandas->wefe) (2.8.2)\n",
            "Requirement already satisfied: pytz>=2020.1 in /usr/local/lib/python3.10/dist-packages (from pandas->wefe) (2023.4)\n",
            "Requirement already satisfied: tenacity>=6.2.0 in /usr/local/lib/python3.10/dist-packages (from plotly->wefe) (8.2.3)\n",
            "Requirement already satisfied: packaging in /usr/local/lib/python3.10/dist-packages (from plotly->wefe) (23.2)\n",
            "Requirement already satisfied: charset-normalizer<4,>=2 in /usr/local/lib/python3.10/dist-packages (from requests->wefe) (3.3.2)\n",
            "Requirement already satisfied: idna<4,>=2.5 in /usr/local/lib/python3.10/dist-packages (from requests->wefe) (3.6)\n",
            "Requirement already satisfied: urllib3<3,>=1.21.1 in /usr/local/lib/python3.10/dist-packages (from requests->wefe) (2.0.7)\n",
            "Requirement already satisfied: certifi>=2017.4.17 in /usr/local/lib/python3.10/dist-packages (from requests->wefe) (2024.2.2)\n",
            "Requirement already satisfied: joblib>=1.1.1 in /usr/local/lib/python3.10/dist-packages (from scikit-learn->wefe) (1.3.2)\n",
            "Requirement already satisfied: threadpoolctl>=2.0.0 in /usr/local/lib/python3.10/dist-packages (from scikit-learn->wefe) (3.3.0)\n"
          ]
        }
      ]
    },
    {
      "cell_type": "markdown",
      "source": [
        "**Install wefe and WEAT to find bias within the four downloaded models**"
      ],
      "metadata": {
        "id": "vHzqvJRSp-Ga"
      }
    },
    {
      "cell_type": "code",
      "source": [
        "import wefe\n",
        "from wefe.query import Query\n",
        "from wefe.metrics import WEAT\n",
        "from wefe.utils import run_queries\n",
        "from wefe.word_embedding_model import WordEmbeddingModel\n",
        "import numpy as np\n",
        "\n",
        "# Decided to try to test for racism in the Wikipedia Dataset\n",
        "diverse = [\"black\", \"hispanic\"]\n",
        "nondiverse = [\"white\", \"caucasian\"]\n",
        "\n",
        "negative_attributes = [\"criminal\", \"thug\", \"violent\", \"dangerous\"]\n",
        "non_negative_attributes = [\"educated\", \"skilled\", \"professional\", \"successful\"]\n",
        "\n",
        "query = Query(\n",
        "    target_sets=[\n",
        "        diverse, nondiverse\n",
        "    ],\n",
        "    attribute_sets=[\n",
        "        negative_attributes, non_negative_attributes\n",
        "    ],\n",
        "    target_sets_names=['Diverse', 'Non-Diverse'],\n",
        "    attribute_sets_names=['Negative', 'Positive'])\n",
        "\n",
        "weat = WEAT()\n",
        "\n",
        "# Have to wrap models in wefe WordEmbeddingModel\n",
        "CBOWmodel_wrapper = WordEmbeddingModel(\n",
        "    CBOWmodel.wv, \"CBOWword2vec.model\"\n",
        ")\n",
        "\n",
        "SGmodel_wrapper = WordEmbeddingModel(\n",
        "    SGmodel.wv, \"SGword2vec.model\"\n",
        ")\n",
        "\n",
        "glove_wrapper = WordEmbeddingModel(\n",
        "    glove_model, \"glove.model\"\n",
        ")\n",
        "\n",
        "google_wrapper = WordEmbeddingModel(\n",
        "    google_model, \"google.model\"\n",
        ")\n",
        "\n",
        "# Running individual model queries to find bias\n",
        "CBOWres = run_queries(\n",
        "    WEAT,\n",
        "    [query],\n",
        "    [CBOWmodel_wrapper],\n",
        "    metric_params={\"preprocessors\": [{\"lowercase\": True}]},\n",
        "    warn_not_found_words=True\n",
        ").T.round(2)\n",
        "\n",
        "SGres = run_queries(\n",
        "    WEAT,\n",
        "    [query],\n",
        "    [SGmodel_wrapper],\n",
        "    metric_params={\"preprocessors\": [{\"lowercase\": True}]},\n",
        "    warn_not_found_words=True\n",
        ").T.round(2)\n",
        "\n",
        "gloveres = run_queries(\n",
        "    WEAT,\n",
        "    [query],\n",
        "    [glove_wrapper],\n",
        "    metric_params={\"preprocessors\": [{\"lowercase\": True}]},\n",
        "    warn_not_found_words=True\n",
        ").T.round(2)\n",
        "\n",
        "googleres = run_queries(\n",
        "    WEAT,\n",
        "    [query],\n",
        "    [google_wrapper],\n",
        "    metric_params={\"preprocessors\": [{\"lowercase\": True}]},\n",
        "    warn_not_found_words=True\n",
        ").T.round(2)"
      ],
      "metadata": {
        "id": "wJoxB4FOahGg"
      },
      "execution_count": 13,
      "outputs": []
    },
    {
      "cell_type": "code",
      "source": [
        "CBOWres"
      ],
      "metadata": {
        "id": "ZoNAr_6VdftM",
        "colab": {
          "base_uri": "https://localhost:8080/",
          "height": 112
        },
        "outputId": "7f533046-c741-4749-e44d-f134a575e250"
      },
      "execution_count": 14,
      "outputs": [
        {
          "output_type": "execute_result",
          "data": {
            "text/plain": [
              "model_name                                         CBOWword2vec.model\n",
              "query_name                                                           \n",
              "Diverse and Non-Diverse wrt Negative and Positive                -0.1"
            ],
            "text/html": [
              "\n",
              "  <div id=\"df-2177c7c8-5f30-43a2-bdab-92ff6bbf6214\" class=\"colab-df-container\">\n",
              "    <div>\n",
              "<style scoped>\n",
              "    .dataframe tbody tr th:only-of-type {\n",
              "        vertical-align: middle;\n",
              "    }\n",
              "\n",
              "    .dataframe tbody tr th {\n",
              "        vertical-align: top;\n",
              "    }\n",
              "\n",
              "    .dataframe thead th {\n",
              "        text-align: right;\n",
              "    }\n",
              "</style>\n",
              "<table border=\"1\" class=\"dataframe\">\n",
              "  <thead>\n",
              "    <tr style=\"text-align: right;\">\n",
              "      <th>model_name</th>\n",
              "      <th>CBOWword2vec.model</th>\n",
              "    </tr>\n",
              "    <tr>\n",
              "      <th>query_name</th>\n",
              "      <th></th>\n",
              "    </tr>\n",
              "  </thead>\n",
              "  <tbody>\n",
              "    <tr>\n",
              "      <th>Diverse and Non-Diverse wrt Negative and Positive</th>\n",
              "      <td>-0.1</td>\n",
              "    </tr>\n",
              "  </tbody>\n",
              "</table>\n",
              "</div>\n",
              "    <div class=\"colab-df-buttons\">\n",
              "\n",
              "  <div class=\"colab-df-container\">\n",
              "    <button class=\"colab-df-convert\" onclick=\"convertToInteractive('df-2177c7c8-5f30-43a2-bdab-92ff6bbf6214')\"\n",
              "            title=\"Convert this dataframe to an interactive table.\"\n",
              "            style=\"display:none;\">\n",
              "\n",
              "  <svg xmlns=\"http://www.w3.org/2000/svg\" height=\"24px\" viewBox=\"0 -960 960 960\">\n",
              "    <path d=\"M120-120v-720h720v720H120Zm60-500h600v-160H180v160Zm220 220h160v-160H400v160Zm0 220h160v-160H400v160ZM180-400h160v-160H180v160Zm440 0h160v-160H620v160ZM180-180h160v-160H180v160Zm440 0h160v-160H620v160Z\"/>\n",
              "  </svg>\n",
              "    </button>\n",
              "\n",
              "  <style>\n",
              "    .colab-df-container {\n",
              "      display:flex;\n",
              "      gap: 12px;\n",
              "    }\n",
              "\n",
              "    .colab-df-convert {\n",
              "      background-color: #E8F0FE;\n",
              "      border: none;\n",
              "      border-radius: 50%;\n",
              "      cursor: pointer;\n",
              "      display: none;\n",
              "      fill: #1967D2;\n",
              "      height: 32px;\n",
              "      padding: 0 0 0 0;\n",
              "      width: 32px;\n",
              "    }\n",
              "\n",
              "    .colab-df-convert:hover {\n",
              "      background-color: #E2EBFA;\n",
              "      box-shadow: 0px 1px 2px rgba(60, 64, 67, 0.3), 0px 1px 3px 1px rgba(60, 64, 67, 0.15);\n",
              "      fill: #174EA6;\n",
              "    }\n",
              "\n",
              "    .colab-df-buttons div {\n",
              "      margin-bottom: 4px;\n",
              "    }\n",
              "\n",
              "    [theme=dark] .colab-df-convert {\n",
              "      background-color: #3B4455;\n",
              "      fill: #D2E3FC;\n",
              "    }\n",
              "\n",
              "    [theme=dark] .colab-df-convert:hover {\n",
              "      background-color: #434B5C;\n",
              "      box-shadow: 0px 1px 3px 1px rgba(0, 0, 0, 0.15);\n",
              "      filter: drop-shadow(0px 1px 2px rgba(0, 0, 0, 0.3));\n",
              "      fill: #FFFFFF;\n",
              "    }\n",
              "  </style>\n",
              "\n",
              "    <script>\n",
              "      const buttonEl =\n",
              "        document.querySelector('#df-2177c7c8-5f30-43a2-bdab-92ff6bbf6214 button.colab-df-convert');\n",
              "      buttonEl.style.display =\n",
              "        google.colab.kernel.accessAllowed ? 'block' : 'none';\n",
              "\n",
              "      async function convertToInteractive(key) {\n",
              "        const element = document.querySelector('#df-2177c7c8-5f30-43a2-bdab-92ff6bbf6214');\n",
              "        const dataTable =\n",
              "          await google.colab.kernel.invokeFunction('convertToInteractive',\n",
              "                                                    [key], {});\n",
              "        if (!dataTable) return;\n",
              "\n",
              "        const docLinkHtml = 'Like what you see? Visit the ' +\n",
              "          '<a target=\"_blank\" href=https://colab.research.google.com/notebooks/data_table.ipynb>data table notebook</a>'\n",
              "          + ' to learn more about interactive tables.';\n",
              "        element.innerHTML = '';\n",
              "        dataTable['output_type'] = 'display_data';\n",
              "        await google.colab.output.renderOutput(dataTable, element);\n",
              "        const docLink = document.createElement('div');\n",
              "        docLink.innerHTML = docLinkHtml;\n",
              "        element.appendChild(docLink);\n",
              "      }\n",
              "    </script>\n",
              "  </div>\n",
              "\n",
              "\n",
              "  <div id=\"id_f989156c-b07c-49ee-874f-03cbb69f2c33\">\n",
              "    <style>\n",
              "      .colab-df-generate {\n",
              "        background-color: #E8F0FE;\n",
              "        border: none;\n",
              "        border-radius: 50%;\n",
              "        cursor: pointer;\n",
              "        display: none;\n",
              "        fill: #1967D2;\n",
              "        height: 32px;\n",
              "        padding: 0 0 0 0;\n",
              "        width: 32px;\n",
              "      }\n",
              "\n",
              "      .colab-df-generate:hover {\n",
              "        background-color: #E2EBFA;\n",
              "        box-shadow: 0px 1px 2px rgba(60, 64, 67, 0.3), 0px 1px 3px 1px rgba(60, 64, 67, 0.15);\n",
              "        fill: #174EA6;\n",
              "      }\n",
              "\n",
              "      [theme=dark] .colab-df-generate {\n",
              "        background-color: #3B4455;\n",
              "        fill: #D2E3FC;\n",
              "      }\n",
              "\n",
              "      [theme=dark] .colab-df-generate:hover {\n",
              "        background-color: #434B5C;\n",
              "        box-shadow: 0px 1px 3px 1px rgba(0, 0, 0, 0.15);\n",
              "        filter: drop-shadow(0px 1px 2px rgba(0, 0, 0, 0.3));\n",
              "        fill: #FFFFFF;\n",
              "      }\n",
              "    </style>\n",
              "    <button class=\"colab-df-generate\" onclick=\"generateWithVariable('CBOWres')\"\n",
              "            title=\"Generate code using this dataframe.\"\n",
              "            style=\"display:none;\">\n",
              "\n",
              "  <svg xmlns=\"http://www.w3.org/2000/svg\" height=\"24px\"viewBox=\"0 0 24 24\"\n",
              "       width=\"24px\">\n",
              "    <path d=\"M7,19H8.4L18.45,9,17,7.55,7,17.6ZM5,21V16.75L18.45,3.32a2,2,0,0,1,2.83,0l1.4,1.43a1.91,1.91,0,0,1,.58,1.4,1.91,1.91,0,0,1-.58,1.4L9.25,21ZM18.45,9,17,7.55Zm-12,3A5.31,5.31,0,0,0,4.9,8.1,5.31,5.31,0,0,0,1,6.5,5.31,5.31,0,0,0,4.9,4.9,5.31,5.31,0,0,0,6.5,1,5.31,5.31,0,0,0,8.1,4.9,5.31,5.31,0,0,0,12,6.5,5.46,5.46,0,0,0,6.5,12Z\"/>\n",
              "  </svg>\n",
              "    </button>\n",
              "    <script>\n",
              "      (() => {\n",
              "      const buttonEl =\n",
              "        document.querySelector('#id_f989156c-b07c-49ee-874f-03cbb69f2c33 button.colab-df-generate');\n",
              "      buttonEl.style.display =\n",
              "        google.colab.kernel.accessAllowed ? 'block' : 'none';\n",
              "\n",
              "      buttonEl.onclick = () => {\n",
              "        google.colab.notebook.generateWithVariable('CBOWres');\n",
              "      }\n",
              "      })();\n",
              "    </script>\n",
              "  </div>\n",
              "\n",
              "    </div>\n",
              "  </div>\n"
            ],
            "application/vnd.google.colaboratory.intrinsic+json": {
              "type": "dataframe",
              "variable_name": "CBOWres",
              "summary": "{\n  \"name\": \"CBOWres\",\n  \"rows\": 1,\n  \"fields\": [\n    {\n      \"column\": \"CBOWword2vec.model\",\n      \"properties\": {\n        \"dtype\": \"number\",\n        \"std\": null,\n        \"min\": -0.1,\n        \"max\": -0.1,\n        \"num_unique_values\": 1,\n        \"samples\": [\n          -0.1\n        ],\n        \"semantic_type\": \"\",\n        \"description\": \"\"\n      }\n    }\n  ]\n}"
            }
          },
          "metadata": {},
          "execution_count": 14
        }
      ]
    },
    {
      "cell_type": "code",
      "source": [
        "SGres"
      ],
      "metadata": {
        "id": "BU1w-uPVrvLL",
        "colab": {
          "base_uri": "https://localhost:8080/",
          "height": 112
        },
        "outputId": "55f2bae0-da70-436d-eb23-1265d7991af3"
      },
      "execution_count": 15,
      "outputs": [
        {
          "output_type": "execute_result",
          "data": {
            "text/plain": [
              "model_name                                         SGword2vec.model\n",
              "query_name                                                         \n",
              "Diverse and Non-Diverse wrt Negative and Positive             -0.04"
            ],
            "text/html": [
              "\n",
              "  <div id=\"df-950150dc-ab58-43a3-b986-023001325f0c\" class=\"colab-df-container\">\n",
              "    <div>\n",
              "<style scoped>\n",
              "    .dataframe tbody tr th:only-of-type {\n",
              "        vertical-align: middle;\n",
              "    }\n",
              "\n",
              "    .dataframe tbody tr th {\n",
              "        vertical-align: top;\n",
              "    }\n",
              "\n",
              "    .dataframe thead th {\n",
              "        text-align: right;\n",
              "    }\n",
              "</style>\n",
              "<table border=\"1\" class=\"dataframe\">\n",
              "  <thead>\n",
              "    <tr style=\"text-align: right;\">\n",
              "      <th>model_name</th>\n",
              "      <th>SGword2vec.model</th>\n",
              "    </tr>\n",
              "    <tr>\n",
              "      <th>query_name</th>\n",
              "      <th></th>\n",
              "    </tr>\n",
              "  </thead>\n",
              "  <tbody>\n",
              "    <tr>\n",
              "      <th>Diverse and Non-Diverse wrt Negative and Positive</th>\n",
              "      <td>-0.04</td>\n",
              "    </tr>\n",
              "  </tbody>\n",
              "</table>\n",
              "</div>\n",
              "    <div class=\"colab-df-buttons\">\n",
              "\n",
              "  <div class=\"colab-df-container\">\n",
              "    <button class=\"colab-df-convert\" onclick=\"convertToInteractive('df-950150dc-ab58-43a3-b986-023001325f0c')\"\n",
              "            title=\"Convert this dataframe to an interactive table.\"\n",
              "            style=\"display:none;\">\n",
              "\n",
              "  <svg xmlns=\"http://www.w3.org/2000/svg\" height=\"24px\" viewBox=\"0 -960 960 960\">\n",
              "    <path d=\"M120-120v-720h720v720H120Zm60-500h600v-160H180v160Zm220 220h160v-160H400v160Zm0 220h160v-160H400v160ZM180-400h160v-160H180v160Zm440 0h160v-160H620v160ZM180-180h160v-160H180v160Zm440 0h160v-160H620v160Z\"/>\n",
              "  </svg>\n",
              "    </button>\n",
              "\n",
              "  <style>\n",
              "    .colab-df-container {\n",
              "      display:flex;\n",
              "      gap: 12px;\n",
              "    }\n",
              "\n",
              "    .colab-df-convert {\n",
              "      background-color: #E8F0FE;\n",
              "      border: none;\n",
              "      border-radius: 50%;\n",
              "      cursor: pointer;\n",
              "      display: none;\n",
              "      fill: #1967D2;\n",
              "      height: 32px;\n",
              "      padding: 0 0 0 0;\n",
              "      width: 32px;\n",
              "    }\n",
              "\n",
              "    .colab-df-convert:hover {\n",
              "      background-color: #E2EBFA;\n",
              "      box-shadow: 0px 1px 2px rgba(60, 64, 67, 0.3), 0px 1px 3px 1px rgba(60, 64, 67, 0.15);\n",
              "      fill: #174EA6;\n",
              "    }\n",
              "\n",
              "    .colab-df-buttons div {\n",
              "      margin-bottom: 4px;\n",
              "    }\n",
              "\n",
              "    [theme=dark] .colab-df-convert {\n",
              "      background-color: #3B4455;\n",
              "      fill: #D2E3FC;\n",
              "    }\n",
              "\n",
              "    [theme=dark] .colab-df-convert:hover {\n",
              "      background-color: #434B5C;\n",
              "      box-shadow: 0px 1px 3px 1px rgba(0, 0, 0, 0.15);\n",
              "      filter: drop-shadow(0px 1px 2px rgba(0, 0, 0, 0.3));\n",
              "      fill: #FFFFFF;\n",
              "    }\n",
              "  </style>\n",
              "\n",
              "    <script>\n",
              "      const buttonEl =\n",
              "        document.querySelector('#df-950150dc-ab58-43a3-b986-023001325f0c button.colab-df-convert');\n",
              "      buttonEl.style.display =\n",
              "        google.colab.kernel.accessAllowed ? 'block' : 'none';\n",
              "\n",
              "      async function convertToInteractive(key) {\n",
              "        const element = document.querySelector('#df-950150dc-ab58-43a3-b986-023001325f0c');\n",
              "        const dataTable =\n",
              "          await google.colab.kernel.invokeFunction('convertToInteractive',\n",
              "                                                    [key], {});\n",
              "        if (!dataTable) return;\n",
              "\n",
              "        const docLinkHtml = 'Like what you see? Visit the ' +\n",
              "          '<a target=\"_blank\" href=https://colab.research.google.com/notebooks/data_table.ipynb>data table notebook</a>'\n",
              "          + ' to learn more about interactive tables.';\n",
              "        element.innerHTML = '';\n",
              "        dataTable['output_type'] = 'display_data';\n",
              "        await google.colab.output.renderOutput(dataTable, element);\n",
              "        const docLink = document.createElement('div');\n",
              "        docLink.innerHTML = docLinkHtml;\n",
              "        element.appendChild(docLink);\n",
              "      }\n",
              "    </script>\n",
              "  </div>\n",
              "\n",
              "\n",
              "  <div id=\"id_ba16b2f5-609c-42ef-b65e-4c211e78ac32\">\n",
              "    <style>\n",
              "      .colab-df-generate {\n",
              "        background-color: #E8F0FE;\n",
              "        border: none;\n",
              "        border-radius: 50%;\n",
              "        cursor: pointer;\n",
              "        display: none;\n",
              "        fill: #1967D2;\n",
              "        height: 32px;\n",
              "        padding: 0 0 0 0;\n",
              "        width: 32px;\n",
              "      }\n",
              "\n",
              "      .colab-df-generate:hover {\n",
              "        background-color: #E2EBFA;\n",
              "        box-shadow: 0px 1px 2px rgba(60, 64, 67, 0.3), 0px 1px 3px 1px rgba(60, 64, 67, 0.15);\n",
              "        fill: #174EA6;\n",
              "      }\n",
              "\n",
              "      [theme=dark] .colab-df-generate {\n",
              "        background-color: #3B4455;\n",
              "        fill: #D2E3FC;\n",
              "      }\n",
              "\n",
              "      [theme=dark] .colab-df-generate:hover {\n",
              "        background-color: #434B5C;\n",
              "        box-shadow: 0px 1px 3px 1px rgba(0, 0, 0, 0.15);\n",
              "        filter: drop-shadow(0px 1px 2px rgba(0, 0, 0, 0.3));\n",
              "        fill: #FFFFFF;\n",
              "      }\n",
              "    </style>\n",
              "    <button class=\"colab-df-generate\" onclick=\"generateWithVariable('SGres')\"\n",
              "            title=\"Generate code using this dataframe.\"\n",
              "            style=\"display:none;\">\n",
              "\n",
              "  <svg xmlns=\"http://www.w3.org/2000/svg\" height=\"24px\"viewBox=\"0 0 24 24\"\n",
              "       width=\"24px\">\n",
              "    <path d=\"M7,19H8.4L18.45,9,17,7.55,7,17.6ZM5,21V16.75L18.45,3.32a2,2,0,0,1,2.83,0l1.4,1.43a1.91,1.91,0,0,1,.58,1.4,1.91,1.91,0,0,1-.58,1.4L9.25,21ZM18.45,9,17,7.55Zm-12,3A5.31,5.31,0,0,0,4.9,8.1,5.31,5.31,0,0,0,1,6.5,5.31,5.31,0,0,0,4.9,4.9,5.31,5.31,0,0,0,6.5,1,5.31,5.31,0,0,0,8.1,4.9,5.31,5.31,0,0,0,12,6.5,5.46,5.46,0,0,0,6.5,12Z\"/>\n",
              "  </svg>\n",
              "    </button>\n",
              "    <script>\n",
              "      (() => {\n",
              "      const buttonEl =\n",
              "        document.querySelector('#id_ba16b2f5-609c-42ef-b65e-4c211e78ac32 button.colab-df-generate');\n",
              "      buttonEl.style.display =\n",
              "        google.colab.kernel.accessAllowed ? 'block' : 'none';\n",
              "\n",
              "      buttonEl.onclick = () => {\n",
              "        google.colab.notebook.generateWithVariable('SGres');\n",
              "      }\n",
              "      })();\n",
              "    </script>\n",
              "  </div>\n",
              "\n",
              "    </div>\n",
              "  </div>\n"
            ],
            "application/vnd.google.colaboratory.intrinsic+json": {
              "type": "dataframe",
              "variable_name": "SGres",
              "summary": "{\n  \"name\": \"SGres\",\n  \"rows\": 1,\n  \"fields\": [\n    {\n      \"column\": \"SGword2vec.model\",\n      \"properties\": {\n        \"dtype\": \"number\",\n        \"std\": null,\n        \"min\": -0.04,\n        \"max\": -0.04,\n        \"num_unique_values\": 1,\n        \"samples\": [\n          -0.04\n        ],\n        \"semantic_type\": \"\",\n        \"description\": \"\"\n      }\n    }\n  ]\n}"
            }
          },
          "metadata": {},
          "execution_count": 15
        }
      ]
    },
    {
      "cell_type": "code",
      "source": [
        "gloveres"
      ],
      "metadata": {
        "id": "GK1F-sw2rwnf",
        "colab": {
          "base_uri": "https://localhost:8080/",
          "height": 112
        },
        "outputId": "7b2032c8-ff89-4e45-82f0-db047e390d47"
      },
      "execution_count": 16,
      "outputs": [
        {
          "output_type": "execute_result",
          "data": {
            "text/plain": [
              "model_name                                         glove.model\n",
              "query_name                                                    \n",
              "Diverse and Non-Diverse wrt Negative and Positive        -0.06"
            ],
            "text/html": [
              "\n",
              "  <div id=\"df-e24528ae-632f-4ba5-b247-09450b552267\" class=\"colab-df-container\">\n",
              "    <div>\n",
              "<style scoped>\n",
              "    .dataframe tbody tr th:only-of-type {\n",
              "        vertical-align: middle;\n",
              "    }\n",
              "\n",
              "    .dataframe tbody tr th {\n",
              "        vertical-align: top;\n",
              "    }\n",
              "\n",
              "    .dataframe thead th {\n",
              "        text-align: right;\n",
              "    }\n",
              "</style>\n",
              "<table border=\"1\" class=\"dataframe\">\n",
              "  <thead>\n",
              "    <tr style=\"text-align: right;\">\n",
              "      <th>model_name</th>\n",
              "      <th>glove.model</th>\n",
              "    </tr>\n",
              "    <tr>\n",
              "      <th>query_name</th>\n",
              "      <th></th>\n",
              "    </tr>\n",
              "  </thead>\n",
              "  <tbody>\n",
              "    <tr>\n",
              "      <th>Diverse and Non-Diverse wrt Negative and Positive</th>\n",
              "      <td>-0.06</td>\n",
              "    </tr>\n",
              "  </tbody>\n",
              "</table>\n",
              "</div>\n",
              "    <div class=\"colab-df-buttons\">\n",
              "\n",
              "  <div class=\"colab-df-container\">\n",
              "    <button class=\"colab-df-convert\" onclick=\"convertToInteractive('df-e24528ae-632f-4ba5-b247-09450b552267')\"\n",
              "            title=\"Convert this dataframe to an interactive table.\"\n",
              "            style=\"display:none;\">\n",
              "\n",
              "  <svg xmlns=\"http://www.w3.org/2000/svg\" height=\"24px\" viewBox=\"0 -960 960 960\">\n",
              "    <path d=\"M120-120v-720h720v720H120Zm60-500h600v-160H180v160Zm220 220h160v-160H400v160Zm0 220h160v-160H400v160ZM180-400h160v-160H180v160Zm440 0h160v-160H620v160ZM180-180h160v-160H180v160Zm440 0h160v-160H620v160Z\"/>\n",
              "  </svg>\n",
              "    </button>\n",
              "\n",
              "  <style>\n",
              "    .colab-df-container {\n",
              "      display:flex;\n",
              "      gap: 12px;\n",
              "    }\n",
              "\n",
              "    .colab-df-convert {\n",
              "      background-color: #E8F0FE;\n",
              "      border: none;\n",
              "      border-radius: 50%;\n",
              "      cursor: pointer;\n",
              "      display: none;\n",
              "      fill: #1967D2;\n",
              "      height: 32px;\n",
              "      padding: 0 0 0 0;\n",
              "      width: 32px;\n",
              "    }\n",
              "\n",
              "    .colab-df-convert:hover {\n",
              "      background-color: #E2EBFA;\n",
              "      box-shadow: 0px 1px 2px rgba(60, 64, 67, 0.3), 0px 1px 3px 1px rgba(60, 64, 67, 0.15);\n",
              "      fill: #174EA6;\n",
              "    }\n",
              "\n",
              "    .colab-df-buttons div {\n",
              "      margin-bottom: 4px;\n",
              "    }\n",
              "\n",
              "    [theme=dark] .colab-df-convert {\n",
              "      background-color: #3B4455;\n",
              "      fill: #D2E3FC;\n",
              "    }\n",
              "\n",
              "    [theme=dark] .colab-df-convert:hover {\n",
              "      background-color: #434B5C;\n",
              "      box-shadow: 0px 1px 3px 1px rgba(0, 0, 0, 0.15);\n",
              "      filter: drop-shadow(0px 1px 2px rgba(0, 0, 0, 0.3));\n",
              "      fill: #FFFFFF;\n",
              "    }\n",
              "  </style>\n",
              "\n",
              "    <script>\n",
              "      const buttonEl =\n",
              "        document.querySelector('#df-e24528ae-632f-4ba5-b247-09450b552267 button.colab-df-convert');\n",
              "      buttonEl.style.display =\n",
              "        google.colab.kernel.accessAllowed ? 'block' : 'none';\n",
              "\n",
              "      async function convertToInteractive(key) {\n",
              "        const element = document.querySelector('#df-e24528ae-632f-4ba5-b247-09450b552267');\n",
              "        const dataTable =\n",
              "          await google.colab.kernel.invokeFunction('convertToInteractive',\n",
              "                                                    [key], {});\n",
              "        if (!dataTable) return;\n",
              "\n",
              "        const docLinkHtml = 'Like what you see? Visit the ' +\n",
              "          '<a target=\"_blank\" href=https://colab.research.google.com/notebooks/data_table.ipynb>data table notebook</a>'\n",
              "          + ' to learn more about interactive tables.';\n",
              "        element.innerHTML = '';\n",
              "        dataTable['output_type'] = 'display_data';\n",
              "        await google.colab.output.renderOutput(dataTable, element);\n",
              "        const docLink = document.createElement('div');\n",
              "        docLink.innerHTML = docLinkHtml;\n",
              "        element.appendChild(docLink);\n",
              "      }\n",
              "    </script>\n",
              "  </div>\n",
              "\n",
              "\n",
              "  <div id=\"id_34cf2992-0b32-4eff-9345-6ce0f6197799\">\n",
              "    <style>\n",
              "      .colab-df-generate {\n",
              "        background-color: #E8F0FE;\n",
              "        border: none;\n",
              "        border-radius: 50%;\n",
              "        cursor: pointer;\n",
              "        display: none;\n",
              "        fill: #1967D2;\n",
              "        height: 32px;\n",
              "        padding: 0 0 0 0;\n",
              "        width: 32px;\n",
              "      }\n",
              "\n",
              "      .colab-df-generate:hover {\n",
              "        background-color: #E2EBFA;\n",
              "        box-shadow: 0px 1px 2px rgba(60, 64, 67, 0.3), 0px 1px 3px 1px rgba(60, 64, 67, 0.15);\n",
              "        fill: #174EA6;\n",
              "      }\n",
              "\n",
              "      [theme=dark] .colab-df-generate {\n",
              "        background-color: #3B4455;\n",
              "        fill: #D2E3FC;\n",
              "      }\n",
              "\n",
              "      [theme=dark] .colab-df-generate:hover {\n",
              "        background-color: #434B5C;\n",
              "        box-shadow: 0px 1px 3px 1px rgba(0, 0, 0, 0.15);\n",
              "        filter: drop-shadow(0px 1px 2px rgba(0, 0, 0, 0.3));\n",
              "        fill: #FFFFFF;\n",
              "      }\n",
              "    </style>\n",
              "    <button class=\"colab-df-generate\" onclick=\"generateWithVariable('gloveres')\"\n",
              "            title=\"Generate code using this dataframe.\"\n",
              "            style=\"display:none;\">\n",
              "\n",
              "  <svg xmlns=\"http://www.w3.org/2000/svg\" height=\"24px\"viewBox=\"0 0 24 24\"\n",
              "       width=\"24px\">\n",
              "    <path d=\"M7,19H8.4L18.45,9,17,7.55,7,17.6ZM5,21V16.75L18.45,3.32a2,2,0,0,1,2.83,0l1.4,1.43a1.91,1.91,0,0,1,.58,1.4,1.91,1.91,0,0,1-.58,1.4L9.25,21ZM18.45,9,17,7.55Zm-12,3A5.31,5.31,0,0,0,4.9,8.1,5.31,5.31,0,0,0,1,6.5,5.31,5.31,0,0,0,4.9,4.9,5.31,5.31,0,0,0,6.5,1,5.31,5.31,0,0,0,8.1,4.9,5.31,5.31,0,0,0,12,6.5,5.46,5.46,0,0,0,6.5,12Z\"/>\n",
              "  </svg>\n",
              "    </button>\n",
              "    <script>\n",
              "      (() => {\n",
              "      const buttonEl =\n",
              "        document.querySelector('#id_34cf2992-0b32-4eff-9345-6ce0f6197799 button.colab-df-generate');\n",
              "      buttonEl.style.display =\n",
              "        google.colab.kernel.accessAllowed ? 'block' : 'none';\n",
              "\n",
              "      buttonEl.onclick = () => {\n",
              "        google.colab.notebook.generateWithVariable('gloveres');\n",
              "      }\n",
              "      })();\n",
              "    </script>\n",
              "  </div>\n",
              "\n",
              "    </div>\n",
              "  </div>\n"
            ],
            "application/vnd.google.colaboratory.intrinsic+json": {
              "type": "dataframe",
              "variable_name": "gloveres",
              "summary": "{\n  \"name\": \"gloveres\",\n  \"rows\": 1,\n  \"fields\": [\n    {\n      \"column\": \"glove.model\",\n      \"properties\": {\n        \"dtype\": \"number\",\n        \"std\": null,\n        \"min\": -0.06,\n        \"max\": -0.06,\n        \"num_unique_values\": 1,\n        \"samples\": [\n          -0.06\n        ],\n        \"semantic_type\": \"\",\n        \"description\": \"\"\n      }\n    }\n  ]\n}"
            }
          },
          "metadata": {},
          "execution_count": 16
        }
      ]
    },
    {
      "cell_type": "code",
      "source": [
        "googleres"
      ],
      "metadata": {
        "id": "JlGGAZ1XryRV",
        "colab": {
          "base_uri": "https://localhost:8080/",
          "height": 112
        },
        "outputId": "f1e1756a-ab7e-48bc-8c84-ce94cec44978"
      },
      "execution_count": 17,
      "outputs": [
        {
          "output_type": "execute_result",
          "data": {
            "text/plain": [
              "model_name                                         google.model\n",
              "query_name                                                     \n",
              "Diverse and Non-Diverse wrt Negative and Positive          0.03"
            ],
            "text/html": [
              "\n",
              "  <div id=\"df-9cafde80-261f-4453-8ac5-5117c9165c31\" class=\"colab-df-container\">\n",
              "    <div>\n",
              "<style scoped>\n",
              "    .dataframe tbody tr th:only-of-type {\n",
              "        vertical-align: middle;\n",
              "    }\n",
              "\n",
              "    .dataframe tbody tr th {\n",
              "        vertical-align: top;\n",
              "    }\n",
              "\n",
              "    .dataframe thead th {\n",
              "        text-align: right;\n",
              "    }\n",
              "</style>\n",
              "<table border=\"1\" class=\"dataframe\">\n",
              "  <thead>\n",
              "    <tr style=\"text-align: right;\">\n",
              "      <th>model_name</th>\n",
              "      <th>google.model</th>\n",
              "    </tr>\n",
              "    <tr>\n",
              "      <th>query_name</th>\n",
              "      <th></th>\n",
              "    </tr>\n",
              "  </thead>\n",
              "  <tbody>\n",
              "    <tr>\n",
              "      <th>Diverse and Non-Diverse wrt Negative and Positive</th>\n",
              "      <td>0.03</td>\n",
              "    </tr>\n",
              "  </tbody>\n",
              "</table>\n",
              "</div>\n",
              "    <div class=\"colab-df-buttons\">\n",
              "\n",
              "  <div class=\"colab-df-container\">\n",
              "    <button class=\"colab-df-convert\" onclick=\"convertToInteractive('df-9cafde80-261f-4453-8ac5-5117c9165c31')\"\n",
              "            title=\"Convert this dataframe to an interactive table.\"\n",
              "            style=\"display:none;\">\n",
              "\n",
              "  <svg xmlns=\"http://www.w3.org/2000/svg\" height=\"24px\" viewBox=\"0 -960 960 960\">\n",
              "    <path d=\"M120-120v-720h720v720H120Zm60-500h600v-160H180v160Zm220 220h160v-160H400v160Zm0 220h160v-160H400v160ZM180-400h160v-160H180v160Zm440 0h160v-160H620v160ZM180-180h160v-160H180v160Zm440 0h160v-160H620v160Z\"/>\n",
              "  </svg>\n",
              "    </button>\n",
              "\n",
              "  <style>\n",
              "    .colab-df-container {\n",
              "      display:flex;\n",
              "      gap: 12px;\n",
              "    }\n",
              "\n",
              "    .colab-df-convert {\n",
              "      background-color: #E8F0FE;\n",
              "      border: none;\n",
              "      border-radius: 50%;\n",
              "      cursor: pointer;\n",
              "      display: none;\n",
              "      fill: #1967D2;\n",
              "      height: 32px;\n",
              "      padding: 0 0 0 0;\n",
              "      width: 32px;\n",
              "    }\n",
              "\n",
              "    .colab-df-convert:hover {\n",
              "      background-color: #E2EBFA;\n",
              "      box-shadow: 0px 1px 2px rgba(60, 64, 67, 0.3), 0px 1px 3px 1px rgba(60, 64, 67, 0.15);\n",
              "      fill: #174EA6;\n",
              "    }\n",
              "\n",
              "    .colab-df-buttons div {\n",
              "      margin-bottom: 4px;\n",
              "    }\n",
              "\n",
              "    [theme=dark] .colab-df-convert {\n",
              "      background-color: #3B4455;\n",
              "      fill: #D2E3FC;\n",
              "    }\n",
              "\n",
              "    [theme=dark] .colab-df-convert:hover {\n",
              "      background-color: #434B5C;\n",
              "      box-shadow: 0px 1px 3px 1px rgba(0, 0, 0, 0.15);\n",
              "      filter: drop-shadow(0px 1px 2px rgba(0, 0, 0, 0.3));\n",
              "      fill: #FFFFFF;\n",
              "    }\n",
              "  </style>\n",
              "\n",
              "    <script>\n",
              "      const buttonEl =\n",
              "        document.querySelector('#df-9cafde80-261f-4453-8ac5-5117c9165c31 button.colab-df-convert');\n",
              "      buttonEl.style.display =\n",
              "        google.colab.kernel.accessAllowed ? 'block' : 'none';\n",
              "\n",
              "      async function convertToInteractive(key) {\n",
              "        const element = document.querySelector('#df-9cafde80-261f-4453-8ac5-5117c9165c31');\n",
              "        const dataTable =\n",
              "          await google.colab.kernel.invokeFunction('convertToInteractive',\n",
              "                                                    [key], {});\n",
              "        if (!dataTable) return;\n",
              "\n",
              "        const docLinkHtml = 'Like what you see? Visit the ' +\n",
              "          '<a target=\"_blank\" href=https://colab.research.google.com/notebooks/data_table.ipynb>data table notebook</a>'\n",
              "          + ' to learn more about interactive tables.';\n",
              "        element.innerHTML = '';\n",
              "        dataTable['output_type'] = 'display_data';\n",
              "        await google.colab.output.renderOutput(dataTable, element);\n",
              "        const docLink = document.createElement('div');\n",
              "        docLink.innerHTML = docLinkHtml;\n",
              "        element.appendChild(docLink);\n",
              "      }\n",
              "    </script>\n",
              "  </div>\n",
              "\n",
              "\n",
              "  <div id=\"id_d6bca6ef-b842-4836-ab2c-e94d4813422f\">\n",
              "    <style>\n",
              "      .colab-df-generate {\n",
              "        background-color: #E8F0FE;\n",
              "        border: none;\n",
              "        border-radius: 50%;\n",
              "        cursor: pointer;\n",
              "        display: none;\n",
              "        fill: #1967D2;\n",
              "        height: 32px;\n",
              "        padding: 0 0 0 0;\n",
              "        width: 32px;\n",
              "      }\n",
              "\n",
              "      .colab-df-generate:hover {\n",
              "        background-color: #E2EBFA;\n",
              "        box-shadow: 0px 1px 2px rgba(60, 64, 67, 0.3), 0px 1px 3px 1px rgba(60, 64, 67, 0.15);\n",
              "        fill: #174EA6;\n",
              "      }\n",
              "\n",
              "      [theme=dark] .colab-df-generate {\n",
              "        background-color: #3B4455;\n",
              "        fill: #D2E3FC;\n",
              "      }\n",
              "\n",
              "      [theme=dark] .colab-df-generate:hover {\n",
              "        background-color: #434B5C;\n",
              "        box-shadow: 0px 1px 3px 1px rgba(0, 0, 0, 0.15);\n",
              "        filter: drop-shadow(0px 1px 2px rgba(0, 0, 0, 0.3));\n",
              "        fill: #FFFFFF;\n",
              "      }\n",
              "    </style>\n",
              "    <button class=\"colab-df-generate\" onclick=\"generateWithVariable('googleres')\"\n",
              "            title=\"Generate code using this dataframe.\"\n",
              "            style=\"display:none;\">\n",
              "\n",
              "  <svg xmlns=\"http://www.w3.org/2000/svg\" height=\"24px\"viewBox=\"0 0 24 24\"\n",
              "       width=\"24px\">\n",
              "    <path d=\"M7,19H8.4L18.45,9,17,7.55,7,17.6ZM5,21V16.75L18.45,3.32a2,2,0,0,1,2.83,0l1.4,1.43a1.91,1.91,0,0,1,.58,1.4,1.91,1.91,0,0,1-.58,1.4L9.25,21ZM18.45,9,17,7.55Zm-12,3A5.31,5.31,0,0,0,4.9,8.1,5.31,5.31,0,0,0,1,6.5,5.31,5.31,0,0,0,4.9,4.9,5.31,5.31,0,0,0,6.5,1,5.31,5.31,0,0,0,8.1,4.9,5.31,5.31,0,0,0,12,6.5,5.46,5.46,0,0,0,6.5,12Z\"/>\n",
              "  </svg>\n",
              "    </button>\n",
              "    <script>\n",
              "      (() => {\n",
              "      const buttonEl =\n",
              "        document.querySelector('#id_d6bca6ef-b842-4836-ab2c-e94d4813422f button.colab-df-generate');\n",
              "      buttonEl.style.display =\n",
              "        google.colab.kernel.accessAllowed ? 'block' : 'none';\n",
              "\n",
              "      buttonEl.onclick = () => {\n",
              "        google.colab.notebook.generateWithVariable('googleres');\n",
              "      }\n",
              "      })();\n",
              "    </script>\n",
              "  </div>\n",
              "\n",
              "    </div>\n",
              "  </div>\n"
            ],
            "application/vnd.google.colaboratory.intrinsic+json": {
              "type": "dataframe",
              "variable_name": "googleres",
              "summary": "{\n  \"name\": \"googleres\",\n  \"rows\": 1,\n  \"fields\": [\n    {\n      \"column\": \"google.model\",\n      \"properties\": {\n        \"dtype\": \"number\",\n        \"std\": null,\n        \"min\": 0.03,\n        \"max\": 0.03,\n        \"num_unique_values\": 1,\n        \"samples\": [\n          0.03\n        ],\n        \"semantic_type\": \"\",\n        \"description\": \"\"\n      }\n    }\n  ]\n}"
            }
          },
          "metadata": {},
          "execution_count": 17
        }
      ]
    },
    {
      "cell_type": "markdown",
      "source": [
        "##Task 2.5: Text Classification"
      ],
      "metadata": {
        "id": "RFecP3Q5p3jv"
      }
    },
    {
      "cell_type": "markdown",
      "source": [
        "###BOW Model"
      ],
      "metadata": {
        "id": "2zOhePTvrF3a"
      }
    },
    {
      "cell_type": "markdown",
      "source": [
        "**Used imdb Dataset from Huggingface and Created Logistic Regression to Classify Positive/Negative Reviews**"
      ],
      "metadata": {
        "id": "4BGZMZNCqTAq"
      }
    },
    {
      "cell_type": "code",
      "source": [
        "# Logistic Regression - BOW\n",
        "imdb = load_dataset(\"imdb\")\n",
        "imdb_train = imdb['train']"
      ],
      "metadata": {
        "id": "Ga8TbWTgwXxx"
      },
      "execution_count": 18,
      "outputs": []
    },
    {
      "cell_type": "code",
      "source": [
        "from sklearn.feature_extraction.text import TfidfVectorizer\n",
        "\n",
        "vectorizer = TfidfVectorizer(input=\"content\", stop_words=\"english\")\n",
        "vectors = vectorizer.fit_transform(imdb_train['text'])\n",
        "vectors"
      ],
      "metadata": {
        "id": "dNqObykT9BGE",
        "colab": {
          "base_uri": "https://localhost:8080/"
        },
        "outputId": "55f39bb6-d3e5-47f8-bbf4-82358f468885"
      },
      "execution_count": 19,
      "outputs": [
        {
          "output_type": "execute_result",
          "data": {
            "text/plain": [
              "<25000x74538 sparse matrix of type '<class 'numpy.float64'>'\n",
              "\twith 2241793 stored elements in Compressed Sparse Row format>"
            ]
          },
          "metadata": {},
          "execution_count": 19
        }
      ]
    },
    {
      "cell_type": "code",
      "source": [
        "import random\n",
        "from scipy.special import expit\n",
        "\n",
        "def sgd_for_lr_with_ce(X, y, num_passes=15, learning_rate = 0.1):\n",
        "\n",
        "    num_data_points = X.shape[0]\n",
        "\n",
        "    # Initialize theta -> 0\n",
        "    num_features = X.shape[1]\n",
        "    # set w and b to the correct values\n",
        "    w = np.zeros(num_features)\n",
        "    b = 0\n",
        "\n",
        "    # repeat until done\n",
        "    # how to define \"done\"? let's just make it num passes for now\n",
        "    # we can also do norm of gradient and when it is < epsilon (something tiny)\n",
        "\n",
        "    for current_pass in tqdm(range(num_passes)):\n",
        "\n",
        "        # iterate through entire dataset in random order\n",
        "        order = list(range(num_data_points))\n",
        "        random.shuffle(order)\n",
        "        for i in order:\n",
        "\n",
        "            # compute y-hat for this value of i given y_i and x_i\n",
        "            x_i = X[i].todense()\n",
        "            y_i = y[i]\n",
        "\n",
        "            # need to compute y_hat based on w and b, and x\n",
        "            # sigmoid(w dot x + b)\n",
        "            # use expit for sigmoid\n",
        "\n",
        "            z = np.dot(x_i.squeeze(),w.T) + b\n",
        "            y_hat_i = expit(z)\n",
        "\n",
        "            # for each w (and b), modify by -lr * (y_hat_i - y_i) * x_i\n",
        "            w = w - learning_rate * (y_hat_i - y_i) * x_i\n",
        "            b = b - learning_rate * (y_hat_i - y_i)\n",
        "\n",
        "    # return theta\n",
        "    return w,b\n",
        "\n"
      ],
      "metadata": {
        "id": "Todh82lV-Bj7"
      },
      "execution_count": 20,
      "outputs": []
    },
    {
      "cell_type": "markdown",
      "source": [
        "Code Help for the Stochastic Gradient Descent provided by Dr. Steve Wilson."
      ],
      "metadata": {
        "id": "MIZkd4agqmJe"
      }
    },
    {
      "cell_type": "code",
      "source": [
        "# Obtained Training Weights and Biases for BOW LR\n",
        "X = vectors\n",
        "y = imdb_train['label']\n",
        "w,b = sgd_for_lr_with_ce(X,y)"
      ],
      "metadata": {
        "id": "avVqswb6-gvN",
        "colab": {
          "base_uri": "https://localhost:8080/"
        },
        "outputId": "f9c90ce8-0ddf-4f62-e271-08afa227aea8"
      },
      "execution_count": 21,
      "outputs": [
        {
          "output_type": "stream",
          "name": "stderr",
          "text": [
            "100%|██████████| 15/15 [04:32<00:00, 18.15s/it]\n"
          ]
        }
      ]
    },
    {
      "cell_type": "code",
      "source": [
        "def predict_y_lr(w,b,X,threshold=0.5):\n",
        "  y_hat = X.dot(w.reshape(-1,1)) + b\n",
        "  preds = np.where(y_hat>threshold, 1, 0)\n",
        "\n",
        "  return preds"
      ],
      "metadata": {
        "id": "izzPhzYVCyFn"
      },
      "execution_count": 22,
      "outputs": []
    },
    {
      "cell_type": "markdown",
      "source": [],
      "metadata": {
        "id": "mEIf2XvQqyOZ"
      }
    },
    {
      "cell_type": "markdown",
      "source": [
        "**Trained BOW LR and Delivered Classification Report on Training Data**"
      ],
      "metadata": {
        "id": "JOo4VB8mq2RA"
      }
    },
    {
      "cell_type": "code",
      "source": [
        "from sklearn.metrics import classification_report\n",
        "\n",
        "training_preds = predict_y_lr(w,b,X)\n",
        "print(classification_report(y, training_preds))"
      ],
      "metadata": {
        "id": "x3N6xXNhDFNL",
        "colab": {
          "base_uri": "https://localhost:8080/"
        },
        "outputId": "01729aa6-f226-413c-85d4-bbf59d53906a"
      },
      "execution_count": 23,
      "outputs": [
        {
          "output_type": "stream",
          "name": "stdout",
          "text": [
            "              precision    recall  f1-score   support\n",
            "\n",
            "           0       0.92      0.97      0.94     12500\n",
            "           1       0.97      0.91      0.94     12500\n",
            "\n",
            "    accuracy                           0.94     25000\n",
            "   macro avg       0.94      0.94      0.94     25000\n",
            "weighted avg       0.94      0.94      0.94     25000\n",
            "\n"
          ]
        }
      ]
    },
    {
      "cell_type": "markdown",
      "source": [
        "**Delivered Classification Report on Testing Data**"
      ],
      "metadata": {
        "id": "dHvFgcoGq86j"
      }
    },
    {
      "cell_type": "code",
      "source": [
        "X_test = imdb['test']['text']\n",
        "y_test = imdb['test']['label']\n",
        "\n",
        "X_test_transformed = vectorizer.transform(X_test)\n",
        "testing_preds = predict_y_lr(w,b,X_test_transformed)\n",
        "print(classification_report(y, testing_preds))"
      ],
      "metadata": {
        "id": "yQEIY9SOFjid",
        "colab": {
          "base_uri": "https://localhost:8080/"
        },
        "outputId": "6da89698-e0bc-462a-885a-3672f95ee442"
      },
      "execution_count": 24,
      "outputs": [
        {
          "output_type": "stream",
          "name": "stdout",
          "text": [
            "              precision    recall  f1-score   support\n",
            "\n",
            "           0       0.83      0.93      0.88     12500\n",
            "           1       0.92      0.81      0.86     12500\n",
            "\n",
            "    accuracy                           0.87     25000\n",
            "   macro avg       0.88      0.87      0.87     25000\n",
            "weighted avg       0.88      0.87      0.87     25000\n",
            "\n"
          ]
        }
      ]
    },
    {
      "cell_type": "markdown",
      "source": [
        "###CBOW Model"
      ],
      "metadata": {
        "id": "ZjQZ3DWYrDQw"
      }
    },
    {
      "cell_type": "code",
      "source": [
        "# Logistic Regression Continuous Bag of Words\n",
        "\n",
        "# Creates a matrix, X, that returns the averaged word embedding vectors for words found in each document and averaged for that document on index\n",
        "def determine_features(data, word_vectors):\n",
        "    row_vectors = []\n",
        "    for each_rating in tqdm(data):\n",
        "        tmp_row_vec = []\n",
        "        rating_tokens = tokenize(each_rating)\n",
        "        rating_tokens = sum(rating_tokens, [])\n",
        "        for tok in rating_tokens:\n",
        "            if tok in word_vectors:\n",
        "                tmp_row_vec.append(word_vectors[tok])\n",
        "        array = np.array(tmp_row_vec)\n",
        "        row_vectors.append(np.mean(array, axis=0))\n",
        "\n",
        "    X = np.matrix(row_vectors)\n",
        "    return X\n"
      ],
      "metadata": {
        "id": "SgJGhJo7Gwqm"
      },
      "execution_count": 25,
      "outputs": []
    },
    {
      "cell_type": "code",
      "source": [
        "from scipy.sparse import csr_matrix\n",
        "\n",
        "Xtrain = determine_features(imdb_train['text'], CBOWmodel.wv)\n",
        "# SGD function wants sparse matrix\n",
        "Xtrain_ = csr_matrix(Xtrain)\n",
        "ytrain = imdb_train['label']\n",
        "w,b = sgd_for_lr_with_ce(Xtrain_,ytrain)"
      ],
      "metadata": {
        "id": "Uxt5KnKbgxVg",
        "colab": {
          "base_uri": "https://localhost:8080/"
        },
        "outputId": "ef2f612e-4e56-4393-cc56-5ea50400574e"
      },
      "execution_count": 26,
      "outputs": [
        {
          "output_type": "stream",
          "name": "stderr",
          "text": [
            "100%|██████████| 25000/25000 [01:37<00:00, 256.79it/s]\n",
            "100%|██████████| 15/15 [01:11<00:00,  4.78s/it]\n"
          ]
        }
      ]
    },
    {
      "cell_type": "markdown",
      "source": [
        "**Trained CBOW LR and Delivered Classification Report on Training Data**"
      ],
      "metadata": {
        "id": "mHOnXBFargup"
      }
    },
    {
      "cell_type": "code",
      "source": [
        "training_preds = predict_y_lr(w,b,Xtrain_)\n",
        "print(classification_report(ytrain, training_preds))"
      ],
      "metadata": {
        "id": "rdwBM8O-j78o",
        "colab": {
          "base_uri": "https://localhost:8080/"
        },
        "outputId": "0389d5ac-397a-466b-94e2-b73d2d635535"
      },
      "execution_count": 27,
      "outputs": [
        {
          "output_type": "stream",
          "name": "stdout",
          "text": [
            "              precision    recall  f1-score   support\n",
            "\n",
            "           0       0.80      0.80      0.80     12500\n",
            "           1       0.80      0.80      0.80     12500\n",
            "\n",
            "    accuracy                           0.80     25000\n",
            "   macro avg       0.80      0.80      0.80     25000\n",
            "weighted avg       0.80      0.80      0.80     25000\n",
            "\n"
          ]
        }
      ]
    },
    {
      "cell_type": "code",
      "source": [
        "Xtest = determine_features(imdb['test']['text'], CBOWmodel.wv)\n",
        "Xtest_ = csr_matrix(Xtest)\n",
        "ytest = imdb['test']['label']\n",
        "\n"
      ],
      "metadata": {
        "id": "pxlIwu26mh0x",
        "colab": {
          "base_uri": "https://localhost:8080/"
        },
        "outputId": "bb51c16c-8564-4cae-8844-9b475a169f7f"
      },
      "execution_count": 28,
      "outputs": [
        {
          "output_type": "stream",
          "name": "stderr",
          "text": [
            "100%|██████████| 25000/25000 [01:34<00:00, 264.03it/s]\n"
          ]
        }
      ]
    },
    {
      "cell_type": "markdown",
      "source": [
        "**Delivered Classification Report on Training Data**"
      ],
      "metadata": {
        "id": "SN3T-wLCrgSi"
      }
    },
    {
      "cell_type": "code",
      "source": [
        "testing_preds = predict_y_lr(w,b,Xtest_)\n",
        "print(classification_report(ytrain, testing_preds))"
      ],
      "metadata": {
        "id": "oM3AKKk_npu5",
        "colab": {
          "base_uri": "https://localhost:8080/"
        },
        "outputId": "018706f6-0826-4601-d095-fd52192ba7ed"
      },
      "execution_count": 29,
      "outputs": [
        {
          "output_type": "stream",
          "name": "stdout",
          "text": [
            "              precision    recall  f1-score   support\n",
            "\n",
            "           0       0.79      0.79      0.79     12500\n",
            "           1       0.79      0.79      0.79     12500\n",
            "\n",
            "    accuracy                           0.79     25000\n",
            "   macro avg       0.79      0.79      0.79     25000\n",
            "weighted avg       0.79      0.79      0.79     25000\n",
            "\n"
          ]
        }
      ]
    }
  ]
}
{
  "nbformat": 4,
  "nbformat_minor": 0,
  "metadata": {
    "colab": {
      "provenance": [],
      "authorship_tag": "ABX9TyM2/6aj2LCGAJIVcF7F47oy",
      "include_colab_link": true
    },
    "kernelspec": {
      "name": "python3",
      "display_name": "Python 3"
    },
    "language_info": {
      "name": "python"
    }
  },
  "cells": [
    {
      "cell_type": "markdown",
      "metadata": {
        "id": "view-in-github",
        "colab_type": "text"
      },
      "source": [
        "<a href=\"https://colab.research.google.com/github/brandonowens24/Word_Embeddings/blob/main/Word_Embeddings.ipynb\" target=\"_parent\"><img src=\"https://colab.research.google.com/assets/colab-badge.svg\" alt=\"Open In Colab\"/></a>"
      ]
    },
    {
      "cell_type": "markdown",
      "source": [
        "#Assignment 2: Word_Embeddings"
      ],
      "metadata": {
        "id": "0NiRk-ZHoztl"
      }
    },
    {
      "cell_type": "markdown",
      "source": [
        "##Task 2.1 Obtaining Dataset"
      ],
      "metadata": {
        "id": "TT6JNgpcpcIS"
      }
    },
    {
      "cell_type": "markdown",
      "source": [
        "**Installing Necessary Modules for Obtaining Word Embeddings**"
      ],
      "metadata": {
        "id": "5Bb7xOjMokKL"
      }
    },
    {
      "cell_type": "code",
      "source": [
        "# Install Necessary Modules\n",
        "! pip install --upgrade gensim\n",
        "! pip install datasets\n",
        "! pip install apache_beam"
      ],
      "metadata": {
        "id": "KEi9HNT08VYM"
      },
      "execution_count": null,
      "outputs": []
    },
    {
      "cell_type": "markdown",
      "source": [
        "**Grabbing Wikipedia Data from Hugginface**"
      ],
      "metadata": {
        "id": "wQ_8ue7-osSC"
      }
    },
    {
      "cell_type": "code",
      "execution_count": null,
      "metadata": {
        "id": "k2nLVxP2jEPg"
      },
      "outputs": [],
      "source": [
        "from datasets import load_dataset\n",
        "from tqdm import tqdm\n",
        "\n",
        "# Grab Dataset from Huggingface\n",
        "dataset = load_dataset(\"wikipedia\", \"20220301.simple\")\n",
        "documents = dataset['train']['text']\n"
      ]
    },
    {
      "cell_type": "markdown",
      "source": [
        "**Creating a Basic Tokenization Function**"
      ],
      "metadata": {
        "id": "fO8EtcVao53X"
      }
    },
    {
      "cell_type": "code",
      "source": [
        "import nltk\n",
        "nltk.download('punkt')\n",
        "import string\n",
        "\n",
        "def tokenize(document):\n",
        "    doc_tokens = []\n",
        "    sentences = nltk.sent_tokenize(document)\n",
        "    for sentence in sentences:\n",
        "        sent_tokens = nltk.word_tokenize(sentence)\n",
        "        sent_tokens = [word.lower() for word in sent_tokens if word]\n",
        "        doc_tokens += [sent_tokens]\n",
        "    return doc_tokens\n"
      ],
      "metadata": {
        "id": "mFYb5S0O-1v6",
        "colab": {
          "base_uri": "https://localhost:8080/"
        },
        "outputId": "bf56e061-e4da-4d2a-c725-5947544640cf"
      },
      "execution_count": 176,
      "outputs": [
        {
          "output_type": "stream",
          "name": "stderr",
          "text": [
            "[nltk_data] Downloading package punkt to /root/nltk_data...\n",
            "[nltk_data]   Package punkt is already up-to-date!\n"
          ]
        }
      ]
    },
    {
      "cell_type": "markdown",
      "source": [
        "**Tokenizing All Wikipedia Rows in the Dataset**"
      ],
      "metadata": {
        "id": "CcFRzxRBpAoQ"
      }
    },
    {
      "cell_type": "code",
      "source": [
        "# Word2Vec in gensim wants lists of lists of tokens for sentences\n",
        "all_sent_tokenized = []\n",
        "\n",
        "for document in tqdm(documents):\n",
        "  doc_tokens = tokenize(document)\n",
        "  all_sent_tokenized += doc_tokens"
      ],
      "metadata": {
        "colab": {
          "base_uri": "https://localhost:8080/"
        },
        "id": "fWgGt9RqVt7b",
        "outputId": "9a1d7bd2-1146-4a55-a799-6b553e2692ea"
      },
      "execution_count": null,
      "outputs": [
        {
          "output_type": "stream",
          "name": "stderr",
          "text": [
            "100%|██████████| 205328/205328 [07:47<00:00, 438.91it/s]\n"
          ]
        }
      ]
    },
    {
      "cell_type": "markdown",
      "source": [
        "Gensim Word2Vec wants all of the sentences for the model in a list of lists of tokens format."
      ],
      "metadata": {
        "id": "8ddRGB0CpGZ_"
      }
    },
    {
      "cell_type": "markdown",
      "source": [
        "##Task 2.2 Training Word Embeddings\n"
      ],
      "metadata": {
        "id": "SX4DG1EcpjZP"
      }
    },
    {
      "cell_type": "markdown",
      "source": [
        "**Creating Models and Loading in Pretrained Models**"
      ],
      "metadata": {
        "id": "OB9I_V4PpMz3"
      }
    },
    {
      "cell_type": "code",
      "source": [
        "from gensim.models import Word2Vec\n",
        "import gensim.downloader as api\n",
        "\n",
        "# # CBOW\n",
        "# model_CBOW = Word2Vec(sentences=all_sent_tokenized, vector_size=300, window=3, workers=2, hs=1, negative=0, epochs=50, compute_loss=True)\n",
        "# model_CBOW.save(\"CBOWword2vec.model\")\n",
        "\n",
        "# # Skip_Gram\n",
        "# model_SG = Word2Vec(sentences=all_sent_tokenized, vector_size=300, window=3, workers=2, sg=1, hs=1, negative=0, epochs=50, compute_loss=True)\n",
        "# model_SG.save(\"SGword2vec.model\")\n",
        "\n",
        "# Glove\n",
        "glove_model = api.load('glove-wiki-gigaword-50')\n",
        "glove_model.save(\"glove.model\")\n",
        "\n",
        "# Google\n",
        "google_model = api.load('word2vec-google-news-300')\n",
        "google_model.save(\"google.model\")\n"
      ],
      "metadata": {
        "id": "9Mbw7bTXTOKK",
        "colab": {
          "base_uri": "https://localhost:8080/"
        },
        "outputId": "8b789bfc-21b6-4f9a-f05b-8f9e00164326"
      },
      "execution_count": 3,
      "outputs": [
        {
          "output_type": "stream",
          "name": "stdout",
          "text": [
            "[==================================================] 100.0% 66.0/66.0MB downloaded\n",
            "[==================================================] 100.0% 1662.8/1662.8MB downloaded\n"
          ]
        }
      ]
    },
    {
      "cell_type": "markdown",
      "source": [
        "Training time for CBOW ~ 1.5 hours\n",
        "Training time for SG ~ 3.5 hours\n",
        "\n",
        "They have been saved and downloaded.\n",
        "Must still load in google and glove models for comparison."
      ],
      "metadata": {
        "id": "w3cE7FBBrsrh"
      }
    },
    {
      "cell_type": "markdown",
      "source": [
        "**Downloading Model for Personal Use**"
      ],
      "metadata": {
        "id": "3_QYA5mIpSFb"
      }
    },
    {
      "cell_type": "code",
      "source": [
        "from google.colab import files\n",
        "# files.download('CBOWword2vec.model')\n",
        "# files.download('CBOWword2vec.model.syn1.npy')\n",
        "# files.download('CBOWword2vec.model.wv.vectors.npy')\n",
        "# files.download('SGword2vec.model')\n",
        "# files.download('SGword2vec.model.syn1.npy')\n",
        "# files.download('SGword2vec.model.wv.vectors.npy')\n",
        "CBOWmodel = Word2Vec.load(\"CBOWword2vec.model\")\n",
        "SGmodel = Word2Vec.load(\"SGword2vec.model\")\n",
        "\n"
      ],
      "metadata": {
        "id": "6TQbYKZMnxcT",
        "colab": {
          "base_uri": "https://localhost:8080/",
          "height": 17
        },
        "outputId": "ac520a59-1bd8-480a-d59d-0a738973f5f6"
      },
      "execution_count": null,
      "outputs": [
        {
          "output_type": "display_data",
          "data": {
            "text/plain": [
              "<IPython.core.display.Javascript object>"
            ],
            "application/javascript": [
              "\n",
              "    async function download(id, filename, size) {\n",
              "      if (!google.colab.kernel.accessAllowed) {\n",
              "        return;\n",
              "      }\n",
              "      const div = document.createElement('div');\n",
              "      const label = document.createElement('label');\n",
              "      label.textContent = `Downloading \"${filename}\": `;\n",
              "      div.appendChild(label);\n",
              "      const progress = document.createElement('progress');\n",
              "      progress.max = size;\n",
              "      div.appendChild(progress);\n",
              "      document.body.appendChild(div);\n",
              "\n",
              "      const buffers = [];\n",
              "      let downloaded = 0;\n",
              "\n",
              "      const channel = await google.colab.kernel.comms.open(id);\n",
              "      // Send a message to notify the kernel that we're ready.\n",
              "      channel.send({})\n",
              "\n",
              "      for await (const message of channel.messages) {\n",
              "        // Send a message to notify the kernel that we're ready.\n",
              "        channel.send({})\n",
              "        if (message.buffers) {\n",
              "          for (const buffer of message.buffers) {\n",
              "            buffers.push(buffer);\n",
              "            downloaded += buffer.byteLength;\n",
              "            progress.value = downloaded;\n",
              "          }\n",
              "        }\n",
              "      }\n",
              "      const blob = new Blob(buffers, {type: 'application/binary'});\n",
              "      const a = document.createElement('a');\n",
              "      a.href = window.URL.createObjectURL(blob);\n",
              "      a.download = filename;\n",
              "      div.appendChild(a);\n",
              "      a.click();\n",
              "      div.remove();\n",
              "    }\n",
              "  "
            ]
          },
          "metadata": {}
        },
        {
          "output_type": "display_data",
          "data": {
            "text/plain": [
              "<IPython.core.display.Javascript object>"
            ],
            "application/javascript": [
              "download(\"download_681fb7eb-bb5f-4139-af14-414ba4d3f387\", \"SGword2vec.model\", 21980295)"
            ]
          },
          "metadata": {}
        },
        {
          "output_type": "display_data",
          "data": {
            "text/plain": [
              "<IPython.core.display.Javascript object>"
            ],
            "application/javascript": [
              "\n",
              "    async function download(id, filename, size) {\n",
              "      if (!google.colab.kernel.accessAllowed) {\n",
              "        return;\n",
              "      }\n",
              "      const div = document.createElement('div');\n",
              "      const label = document.createElement('label');\n",
              "      label.textContent = `Downloading \"${filename}\": `;\n",
              "      div.appendChild(label);\n",
              "      const progress = document.createElement('progress');\n",
              "      progress.max = size;\n",
              "      div.appendChild(progress);\n",
              "      document.body.appendChild(div);\n",
              "\n",
              "      const buffers = [];\n",
              "      let downloaded = 0;\n",
              "\n",
              "      const channel = await google.colab.kernel.comms.open(id);\n",
              "      // Send a message to notify the kernel that we're ready.\n",
              "      channel.send({})\n",
              "\n",
              "      for await (const message of channel.messages) {\n",
              "        // Send a message to notify the kernel that we're ready.\n",
              "        channel.send({})\n",
              "        if (message.buffers) {\n",
              "          for (const buffer of message.buffers) {\n",
              "            buffers.push(buffer);\n",
              "            downloaded += buffer.byteLength;\n",
              "            progress.value = downloaded;\n",
              "          }\n",
              "        }\n",
              "      }\n",
              "      const blob = new Blob(buffers, {type: 'application/binary'});\n",
              "      const a = document.createElement('a');\n",
              "      a.href = window.URL.createObjectURL(blob);\n",
              "      a.download = filename;\n",
              "      div.appendChild(a);\n",
              "      a.click();\n",
              "      div.remove();\n",
              "    }\n",
              "  "
            ]
          },
          "metadata": {}
        },
        {
          "output_type": "display_data",
          "data": {
            "text/plain": [
              "<IPython.core.display.Javascript object>"
            ],
            "application/javascript": [
              "download(\"download_c2a30d5f-8c80-454a-a9de-db9b99904c48\", \"SGword2vec.model.syn1.npy\", 176964128)"
            ]
          },
          "metadata": {}
        },
        {
          "output_type": "display_data",
          "data": {
            "text/plain": [
              "<IPython.core.display.Javascript object>"
            ],
            "application/javascript": [
              "\n",
              "    async function download(id, filename, size) {\n",
              "      if (!google.colab.kernel.accessAllowed) {\n",
              "        return;\n",
              "      }\n",
              "      const div = document.createElement('div');\n",
              "      const label = document.createElement('label');\n",
              "      label.textContent = `Downloading \"${filename}\": `;\n",
              "      div.appendChild(label);\n",
              "      const progress = document.createElement('progress');\n",
              "      progress.max = size;\n",
              "      div.appendChild(progress);\n",
              "      document.body.appendChild(div);\n",
              "\n",
              "      const buffers = [];\n",
              "      let downloaded = 0;\n",
              "\n",
              "      const channel = await google.colab.kernel.comms.open(id);\n",
              "      // Send a message to notify the kernel that we're ready.\n",
              "      channel.send({})\n",
              "\n",
              "      for await (const message of channel.messages) {\n",
              "        // Send a message to notify the kernel that we're ready.\n",
              "        channel.send({})\n",
              "        if (message.buffers) {\n",
              "          for (const buffer of message.buffers) {\n",
              "            buffers.push(buffer);\n",
              "            downloaded += buffer.byteLength;\n",
              "            progress.value = downloaded;\n",
              "          }\n",
              "        }\n",
              "      }\n",
              "      const blob = new Blob(buffers, {type: 'application/binary'});\n",
              "      const a = document.createElement('a');\n",
              "      a.href = window.URL.createObjectURL(blob);\n",
              "      a.download = filename;\n",
              "      div.appendChild(a);\n",
              "      a.click();\n",
              "      div.remove();\n",
              "    }\n",
              "  "
            ]
          },
          "metadata": {}
        },
        {
          "output_type": "display_data",
          "data": {
            "text/plain": [
              "<IPython.core.display.Javascript object>"
            ],
            "application/javascript": [
              "download(\"download_fd66e573-f536-4c9b-8509-800704f43757\", \"SGword2vec.model.wv.vectors.npy\", 176964128)"
            ]
          },
          "metadata": {}
        }
      ]
    },
    {
      "cell_type": "markdown",
      "source": [
        "This was to avoid re-training my models that were created."
      ],
      "metadata": {
        "id": "-iyr_DOMpVZ7"
      }
    },
    {
      "cell_type": "markdown",
      "source": [
        "##Task 2.3 Comparing Word Embeddings with Queries"
      ],
      "metadata": {
        "id": "uMcD0RJmpoFq"
      }
    },
    {
      "cell_type": "code",
      "source": [
        "# QUERY 1 (Most Similar Words and Their Similarity Scores To: \"calculator\")\n",
        "print(\"CBOW Model: \", CBOWmodel.wv.most_similar('calculator')[:3])\n",
        "print(\"SG Model: \", SGmodel.wv.most_similar('calculator')[:3])\n",
        "print(\"Glove Model: \", glove_model.most_similar('calculator')[:3])\n",
        "print(\"Google Model: \", google_model.most_similar('calculator')[:3])"
      ],
      "metadata": {
        "id": "QTHANY1gY1gA",
        "colab": {
          "base_uri": "https://localhost:8080/"
        },
        "outputId": "d08aaa48-c889-4d90-b49a-22023a7c83b8"
      },
      "execution_count": 5,
      "outputs": [
        {
          "output_type": "stream",
          "name": "stdout",
          "text": [
            "CBOW Model:  [('calculators', 0.3898669481277466), ('computer', 0.34476712346076965), ('device', 0.3213653266429901)]\n",
            "SG Model:  [('calculators', 0.5116651654243469), ('computer', 0.39925017952919006), ('device', 0.39494720101356506)]\n",
            "Glove Model:  [('calculators', 0.8655334711074829), ('graphing', 0.7849180102348328), ('computerized', 0.6740948557853699)]\n",
            "Google Model:  [('calculators', 0.7862768769264221), ('Calculator', 0.7237094640731812), ('Calculators', 0.5793079137802124)]\n"
          ]
        }
      ]
    },
    {
      "cell_type": "code",
      "source": [
        "# QUERY 2 (\"faster\" - \"fast\" + \"strong\" = )\n",
        "\n",
        "print(\"CBOW Model: \", CBOWmodel.wv.most_similar(positive=['faster', 'strong'], negative=['fast'], topn=3))\n",
        "print(\"SG Model: \", SGmodel.wv.most_similar(positive=['faster', 'strong'], negative=['fast'], topn=3))\n",
        "print(\"Glove Model: \", glove_model.most_similar(positive=['faster', 'strong'], negative=['fast'], topn=3))\n",
        "print(\"Google Model: \", google_model.most_similar(positive=['faster', 'strong'], negative=['fast'], topn=3))"
      ],
      "metadata": {
        "id": "txC_WWZjhd-5",
        "colab": {
          "base_uri": "https://localhost:8080/"
        },
        "outputId": "e7e425e9-ad2a-4744-dd3a-7cb3bb1837bd"
      },
      "execution_count": 6,
      "outputs": [
        {
          "output_type": "stream",
          "name": "stdout",
          "text": [
            "CBOW Model:  [('stronger', 0.679090678691864), ('bigger', 0.5708271265029907), ('less', 0.5614640712738037)]\n",
            "SG Model:  [('stronger', 0.6459370851516724), ('weaker', 0.5052216053009033), ('weak', 0.48325246572494507)]\n",
            "Glove Model:  [('stronger', 0.856702983379364), ('strength', 0.7947880625724792), ('contrast', 0.7903764843940735)]\n",
            "Google Model:  [('stronger', 0.7650706171989441), ('weaker', 0.6070874333381653), ('better', 0.5499424338340759)]\n"
          ]
        }
      ]
    },
    {
      "cell_type": "code",
      "source": [
        "# QUERY 3 (\"england\" - \"london\" + \"madrid\" = )\n",
        "\n",
        "print(\"CBOW Model: \", CBOWmodel.wv.most_similar_cosmul(positive=['madrid', 'england'], negative=['london'], topn=3))\n",
        "print(\"SG Model: \", SGmodel.wv.most_similar(positive=['madrid', 'england'], negative=['london'], topn=3 ))\n",
        "print(\"Glove Model: \", glove_model.most_similar(positive=['madrid', 'england'], negative=['london'], topn=3))\n",
        "print(\"Google Model: \", google_model.most_similar(positive=['Madrid', 'England'], negative=['London'], topn=3))"
      ],
      "metadata": {
        "id": "LnAKww6tT3Rn",
        "colab": {
          "base_uri": "https://localhost:8080/"
        },
        "outputId": "562ca72a-80ea-4b0b-87ad-5c9ba125f4d6"
      },
      "execution_count": 27,
      "outputs": [
        {
          "output_type": "stream",
          "name": "stdout",
          "text": [
            "CBOW Model:  [('spain', 0.8290620446205139), ('portugal', 0.797576367855072), ('navarre', 0.7728044390678406)]\n",
            "SG Model:  [('spain', 0.6017550230026245), ('zaragoza', 0.5119850635528564), ('valladolid', 0.503682017326355)]\n",
            "Glove Model:  [('valencia', 0.8629282116889954), ('sevilla', 0.8293460607528687), ('juventus', 0.8229055404663086)]\n",
            "Google Model:  [('Spain', 0.6087851524353027), ('Paraguay', 0.570982813835144), ('Real_Madrid', 0.5681555867195129)]\n"
          ]
        }
      ]
    },
    {
      "cell_type": "code",
      "source": [
        "# QUERY 4 (Which Doesn't Belong: 'finance', 'business', 'market', 'candle', 'stock')\n",
        "\n",
        "print(\"CBOW Model: \", CBOWmodel.wv.doesnt_match(['finance', 'business', 'market', 'candle', 'stock']))\n",
        "print(\"SG Model: \", SGmodel.wv.doesnt_match(['finance', 'business', 'market', 'candle', 'stock']))\n",
        "print(\"Glove Model: \", glove_model.doesnt_match(['finance', 'business', 'market', 'candle', 'stock']))\n",
        "print(\"Google Model: \", google_model.doesnt_match(['finance', 'business', 'market', 'candle', 'stock']))"
      ],
      "metadata": {
        "id": "B1vIIh8uXA3g"
      },
      "execution_count": null,
      "outputs": []
    },
    {
      "cell_type": "code",
      "source": [
        "# QUERY 5 (Testing Similarity Scores of Two Sentences: \"I picked you up from the airport\" and \"I got you from your flight yesterday\")\n",
        "\n",
        "print(\"CBOW Model: \", CBOWmodel.wv.n_similarity( \"I picked you up from the airport\".split(), \"I got you from your flight yesterday\".split()))\n",
        "print(\"SG Model: \", SGmodel.wv.n_similarity( \"I picked you up from the airport\".split(), \"I got you from your flight yesterday\".split()))\n",
        "print(\"Glove Model: \", glove_model.n_similarity( \"I picked you up from the airport\".split(), \"I got you from your flight yesterday\".split()))\n",
        "print(\"Google Model: \", google_model.n_similarity( \"I picked you up from the airport\".split(), \"I got you from your flight yesterday\".split()))"
      ],
      "metadata": {
        "id": "Vx0MGeWoUlD6"
      },
      "execution_count": null,
      "outputs": []
    },
    {
      "cell_type": "markdown",
      "source": [
        "##Task 2.4: Bias in Word Embeddings"
      ],
      "metadata": {
        "id": "_Qx25Mx4ptQw"
      }
    },
    {
      "cell_type": "code",
      "source": [
        "! pip install wefe"
      ],
      "metadata": {
        "id": "ruBAAUNdW9-D"
      },
      "execution_count": null,
      "outputs": []
    },
    {
      "cell_type": "markdown",
      "source": [
        "**Install wefe and WEAT to find bias within the four downloaded models**"
      ],
      "metadata": {
        "id": "vHzqvJRSp-Ga"
      }
    },
    {
      "cell_type": "code",
      "source": [
        "import wefe\n",
        "from wefe.query import Query\n",
        "from wefe.metrics import WEAT\n",
        "from wefe.utils import run_queries\n",
        "from wefe.word_embedding_model import WordEmbeddingModel\n",
        "import numpy as np\n",
        "\n",
        "# Decided to try to test for racism in the Wikipedia Dataset\n",
        "diverse = [\"black\", \"hispanic\"]\n",
        "nondiverse = [\"white\", \"caucasian\"]\n",
        "\n",
        "negative_attributes = [\"criminal\", \"thug\", \"violent\", \"dangerous\"]\n",
        "non_negative_attributes = [\"educated\", \"skilled\", \"professional\", \"successful\"]\n",
        "\n",
        "query = Query(\n",
        "    target_sets=[\n",
        "        diverse, nondiverse\n",
        "    ],\n",
        "    attribute_sets=[\n",
        "        negative_attributes, non_negative_attributes\n",
        "    ],\n",
        "    target_sets_names=['Diverse', 'Non-Diverse'],\n",
        "    attribute_sets_names=['Negative', 'Positive'])\n",
        "\n",
        "weat = WEAT()\n",
        "\n",
        "# Have to wrap models in wefe WordEmbeddingModel\n",
        "CBOWmodel_wrapper = WordEmbeddingModel(\n",
        "    CBOWmodel.wv, \"CBOWword2vec.model\"\n",
        ")\n",
        "\n",
        "SGmodel_wrapper = WordEmbeddingModel(\n",
        "    SGmodel.wv, \"SGword2vec.model\"\n",
        ")\n",
        "\n",
        "glove_wrapper = WordEmbeddingModel(\n",
        "    glove_model, \"glove.model\"\n",
        ")\n",
        "\n",
        "google_wrapper = WordEmbeddingModel(\n",
        "    google_model, \"google.model\"\n",
        ")\n",
        "\n",
        "# Running individual model queries to find bias\n",
        "CBOWres = run_queries(\n",
        "    WEAT,\n",
        "    [query],\n",
        "    [CBOWmodel_wrapper],\n",
        "    metric_params={\"preprocessors\": [{\"lowercase\": True}]},\n",
        "    warn_not_found_words=True\n",
        ").T.round(2)\n",
        "\n",
        "SGres = run_queries(\n",
        "    WEAT,\n",
        "    [query],\n",
        "    [SGmodel_wrapper],\n",
        "    metric_params={\"preprocessors\": [{\"lowercase\": True}]},\n",
        "    warn_not_found_words=True\n",
        ").T.round(2)\n",
        "\n",
        "gloveres = run_queries(\n",
        "    WEAT,\n",
        "    [query],\n",
        "    [glove_wrapper],\n",
        "    metric_params={\"preprocessors\": [{\"lowercase\": True}]},\n",
        "    warn_not_found_words=True\n",
        ").T.round(2)\n",
        "\n",
        "googleres = run_queries(\n",
        "    WEAT,\n",
        "    [query],\n",
        "    [google_wrapper],\n",
        "    metric_params={\"preprocessors\": [{\"lowercase\": True}]},\n",
        "    warn_not_found_words=True\n",
        ").T.round(2)"
      ],
      "metadata": {
        "id": "wJoxB4FOahGg"
      },
      "execution_count": 129,
      "outputs": []
    },
    {
      "cell_type": "code",
      "source": [
        "CBOWres"
      ],
      "metadata": {
        "colab": {
          "base_uri": "https://localhost:8080/",
          "height": 112
        },
        "id": "ZoNAr_6VdftM",
        "outputId": "e659e1aa-2652-4c03-e36d-5b15fcf3d27c"
      },
      "execution_count": 130,
      "outputs": [
        {
          "output_type": "execute_result",
          "data": {
            "text/plain": [
              "model_name                                         CBOWword2vec.model\n",
              "query_name                                                           \n",
              "Diverse and Non-Diverse wrt Negative and Positive                -0.1"
            ],
            "text/html": [
              "\n",
              "  <div id=\"df-934a5bc7-af28-413b-8831-04821782b833\" class=\"colab-df-container\">\n",
              "    <div>\n",
              "<style scoped>\n",
              "    .dataframe tbody tr th:only-of-type {\n",
              "        vertical-align: middle;\n",
              "    }\n",
              "\n",
              "    .dataframe tbody tr th {\n",
              "        vertical-align: top;\n",
              "    }\n",
              "\n",
              "    .dataframe thead th {\n",
              "        text-align: right;\n",
              "    }\n",
              "</style>\n",
              "<table border=\"1\" class=\"dataframe\">\n",
              "  <thead>\n",
              "    <tr style=\"text-align: right;\">\n",
              "      <th>model_name</th>\n",
              "      <th>CBOWword2vec.model</th>\n",
              "    </tr>\n",
              "    <tr>\n",
              "      <th>query_name</th>\n",
              "      <th></th>\n",
              "    </tr>\n",
              "  </thead>\n",
              "  <tbody>\n",
              "    <tr>\n",
              "      <th>Diverse and Non-Diverse wrt Negative and Positive</th>\n",
              "      <td>-0.1</td>\n",
              "    </tr>\n",
              "  </tbody>\n",
              "</table>\n",
              "</div>\n",
              "    <div class=\"colab-df-buttons\">\n",
              "\n",
              "  <div class=\"colab-df-container\">\n",
              "    <button class=\"colab-df-convert\" onclick=\"convertToInteractive('df-934a5bc7-af28-413b-8831-04821782b833')\"\n",
              "            title=\"Convert this dataframe to an interactive table.\"\n",
              "            style=\"display:none;\">\n",
              "\n",
              "  <svg xmlns=\"http://www.w3.org/2000/svg\" height=\"24px\" viewBox=\"0 -960 960 960\">\n",
              "    <path d=\"M120-120v-720h720v720H120Zm60-500h600v-160H180v160Zm220 220h160v-160H400v160Zm0 220h160v-160H400v160ZM180-400h160v-160H180v160Zm440 0h160v-160H620v160ZM180-180h160v-160H180v160Zm440 0h160v-160H620v160Z\"/>\n",
              "  </svg>\n",
              "    </button>\n",
              "\n",
              "  <style>\n",
              "    .colab-df-container {\n",
              "      display:flex;\n",
              "      gap: 12px;\n",
              "    }\n",
              "\n",
              "    .colab-df-convert {\n",
              "      background-color: #E8F0FE;\n",
              "      border: none;\n",
              "      border-radius: 50%;\n",
              "      cursor: pointer;\n",
              "      display: none;\n",
              "      fill: #1967D2;\n",
              "      height: 32px;\n",
              "      padding: 0 0 0 0;\n",
              "      width: 32px;\n",
              "    }\n",
              "\n",
              "    .colab-df-convert:hover {\n",
              "      background-color: #E2EBFA;\n",
              "      box-shadow: 0px 1px 2px rgba(60, 64, 67, 0.3), 0px 1px 3px 1px rgba(60, 64, 67, 0.15);\n",
              "      fill: #174EA6;\n",
              "    }\n",
              "\n",
              "    .colab-df-buttons div {\n",
              "      margin-bottom: 4px;\n",
              "    }\n",
              "\n",
              "    [theme=dark] .colab-df-convert {\n",
              "      background-color: #3B4455;\n",
              "      fill: #D2E3FC;\n",
              "    }\n",
              "\n",
              "    [theme=dark] .colab-df-convert:hover {\n",
              "      background-color: #434B5C;\n",
              "      box-shadow: 0px 1px 3px 1px rgba(0, 0, 0, 0.15);\n",
              "      filter: drop-shadow(0px 1px 2px rgba(0, 0, 0, 0.3));\n",
              "      fill: #FFFFFF;\n",
              "    }\n",
              "  </style>\n",
              "\n",
              "    <script>\n",
              "      const buttonEl =\n",
              "        document.querySelector('#df-934a5bc7-af28-413b-8831-04821782b833 button.colab-df-convert');\n",
              "      buttonEl.style.display =\n",
              "        google.colab.kernel.accessAllowed ? 'block' : 'none';\n",
              "\n",
              "      async function convertToInteractive(key) {\n",
              "        const element = document.querySelector('#df-934a5bc7-af28-413b-8831-04821782b833');\n",
              "        const dataTable =\n",
              "          await google.colab.kernel.invokeFunction('convertToInteractive',\n",
              "                                                    [key], {});\n",
              "        if (!dataTable) return;\n",
              "\n",
              "        const docLinkHtml = 'Like what you see? Visit the ' +\n",
              "          '<a target=\"_blank\" href=https://colab.research.google.com/notebooks/data_table.ipynb>data table notebook</a>'\n",
              "          + ' to learn more about interactive tables.';\n",
              "        element.innerHTML = '';\n",
              "        dataTable['output_type'] = 'display_data';\n",
              "        await google.colab.output.renderOutput(dataTable, element);\n",
              "        const docLink = document.createElement('div');\n",
              "        docLink.innerHTML = docLinkHtml;\n",
              "        element.appendChild(docLink);\n",
              "      }\n",
              "    </script>\n",
              "  </div>\n",
              "\n",
              "\n",
              "  <div id=\"id_cfccd754-5a2a-4b8e-844e-655bc32ccba0\">\n",
              "    <style>\n",
              "      .colab-df-generate {\n",
              "        background-color: #E8F0FE;\n",
              "        border: none;\n",
              "        border-radius: 50%;\n",
              "        cursor: pointer;\n",
              "        display: none;\n",
              "        fill: #1967D2;\n",
              "        height: 32px;\n",
              "        padding: 0 0 0 0;\n",
              "        width: 32px;\n",
              "      }\n",
              "\n",
              "      .colab-df-generate:hover {\n",
              "        background-color: #E2EBFA;\n",
              "        box-shadow: 0px 1px 2px rgba(60, 64, 67, 0.3), 0px 1px 3px 1px rgba(60, 64, 67, 0.15);\n",
              "        fill: #174EA6;\n",
              "      }\n",
              "\n",
              "      [theme=dark] .colab-df-generate {\n",
              "        background-color: #3B4455;\n",
              "        fill: #D2E3FC;\n",
              "      }\n",
              "\n",
              "      [theme=dark] .colab-df-generate:hover {\n",
              "        background-color: #434B5C;\n",
              "        box-shadow: 0px 1px 3px 1px rgba(0, 0, 0, 0.15);\n",
              "        filter: drop-shadow(0px 1px 2px rgba(0, 0, 0, 0.3));\n",
              "        fill: #FFFFFF;\n",
              "      }\n",
              "    </style>\n",
              "    <button class=\"colab-df-generate\" onclick=\"generateWithVariable('CBOWres')\"\n",
              "            title=\"Generate code using this dataframe.\"\n",
              "            style=\"display:none;\">\n",
              "\n",
              "  <svg xmlns=\"http://www.w3.org/2000/svg\" height=\"24px\"viewBox=\"0 0 24 24\"\n",
              "       width=\"24px\">\n",
              "    <path d=\"M7,19H8.4L18.45,9,17,7.55,7,17.6ZM5,21V16.75L18.45,3.32a2,2,0,0,1,2.83,0l1.4,1.43a1.91,1.91,0,0,1,.58,1.4,1.91,1.91,0,0,1-.58,1.4L9.25,21ZM18.45,9,17,7.55Zm-12,3A5.31,5.31,0,0,0,4.9,8.1,5.31,5.31,0,0,0,1,6.5,5.31,5.31,0,0,0,4.9,4.9,5.31,5.31,0,0,0,6.5,1,5.31,5.31,0,0,0,8.1,4.9,5.31,5.31,0,0,0,12,6.5,5.46,5.46,0,0,0,6.5,12Z\"/>\n",
              "  </svg>\n",
              "    </button>\n",
              "    <script>\n",
              "      (() => {\n",
              "      const buttonEl =\n",
              "        document.querySelector('#id_cfccd754-5a2a-4b8e-844e-655bc32ccba0 button.colab-df-generate');\n",
              "      buttonEl.style.display =\n",
              "        google.colab.kernel.accessAllowed ? 'block' : 'none';\n",
              "\n",
              "      buttonEl.onclick = () => {\n",
              "        google.colab.notebook.generateWithVariable('CBOWres');\n",
              "      }\n",
              "      })();\n",
              "    </script>\n",
              "  </div>\n",
              "\n",
              "    </div>\n",
              "  </div>\n"
            ],
            "application/vnd.google.colaboratory.intrinsic+json": {
              "type": "dataframe",
              "variable_name": "CBOWres",
              "summary": "{\n  \"name\": \"CBOWres\",\n  \"rows\": 1,\n  \"fields\": [\n    {\n      \"column\": \"CBOWword2vec.model\",\n      \"properties\": {\n        \"dtype\": \"number\",\n        \"std\": null,\n        \"min\": -0.1,\n        \"max\": -0.1,\n        \"num_unique_values\": 1,\n        \"samples\": [\n          -0.1\n        ],\n        \"semantic_type\": \"\",\n        \"description\": \"\"\n      }\n    }\n  ]\n}"
            }
          },
          "metadata": {},
          "execution_count": 130
        }
      ]
    },
    {
      "cell_type": "code",
      "source": [
        "SGres"
      ],
      "metadata": {
        "colab": {
          "base_uri": "https://localhost:8080/",
          "height": 112
        },
        "id": "BU1w-uPVrvLL",
        "outputId": "d02ad1c4-3732-4e40-9fe3-a708292899b0"
      },
      "execution_count": 131,
      "outputs": [
        {
          "output_type": "execute_result",
          "data": {
            "text/plain": [
              "model_name                                         SGword2vec.model\n",
              "query_name                                                         \n",
              "Diverse and Non-Diverse wrt Negative and Positive             -0.04"
            ],
            "text/html": [
              "\n",
              "  <div id=\"df-6911af54-40e2-4f1f-9a1a-6cf784765c3a\" class=\"colab-df-container\">\n",
              "    <div>\n",
              "<style scoped>\n",
              "    .dataframe tbody tr th:only-of-type {\n",
              "        vertical-align: middle;\n",
              "    }\n",
              "\n",
              "    .dataframe tbody tr th {\n",
              "        vertical-align: top;\n",
              "    }\n",
              "\n",
              "    .dataframe thead th {\n",
              "        text-align: right;\n",
              "    }\n",
              "</style>\n",
              "<table border=\"1\" class=\"dataframe\">\n",
              "  <thead>\n",
              "    <tr style=\"text-align: right;\">\n",
              "      <th>model_name</th>\n",
              "      <th>SGword2vec.model</th>\n",
              "    </tr>\n",
              "    <tr>\n",
              "      <th>query_name</th>\n",
              "      <th></th>\n",
              "    </tr>\n",
              "  </thead>\n",
              "  <tbody>\n",
              "    <tr>\n",
              "      <th>Diverse and Non-Diverse wrt Negative and Positive</th>\n",
              "      <td>-0.04</td>\n",
              "    </tr>\n",
              "  </tbody>\n",
              "</table>\n",
              "</div>\n",
              "    <div class=\"colab-df-buttons\">\n",
              "\n",
              "  <div class=\"colab-df-container\">\n",
              "    <button class=\"colab-df-convert\" onclick=\"convertToInteractive('df-6911af54-40e2-4f1f-9a1a-6cf784765c3a')\"\n",
              "            title=\"Convert this dataframe to an interactive table.\"\n",
              "            style=\"display:none;\">\n",
              "\n",
              "  <svg xmlns=\"http://www.w3.org/2000/svg\" height=\"24px\" viewBox=\"0 -960 960 960\">\n",
              "    <path d=\"M120-120v-720h720v720H120Zm60-500h600v-160H180v160Zm220 220h160v-160H400v160Zm0 220h160v-160H400v160ZM180-400h160v-160H180v160Zm440 0h160v-160H620v160ZM180-180h160v-160H180v160Zm440 0h160v-160H620v160Z\"/>\n",
              "  </svg>\n",
              "    </button>\n",
              "\n",
              "  <style>\n",
              "    .colab-df-container {\n",
              "      display:flex;\n",
              "      gap: 12px;\n",
              "    }\n",
              "\n",
              "    .colab-df-convert {\n",
              "      background-color: #E8F0FE;\n",
              "      border: none;\n",
              "      border-radius: 50%;\n",
              "      cursor: pointer;\n",
              "      display: none;\n",
              "      fill: #1967D2;\n",
              "      height: 32px;\n",
              "      padding: 0 0 0 0;\n",
              "      width: 32px;\n",
              "    }\n",
              "\n",
              "    .colab-df-convert:hover {\n",
              "      background-color: #E2EBFA;\n",
              "      box-shadow: 0px 1px 2px rgba(60, 64, 67, 0.3), 0px 1px 3px 1px rgba(60, 64, 67, 0.15);\n",
              "      fill: #174EA6;\n",
              "    }\n",
              "\n",
              "    .colab-df-buttons div {\n",
              "      margin-bottom: 4px;\n",
              "    }\n",
              "\n",
              "    [theme=dark] .colab-df-convert {\n",
              "      background-color: #3B4455;\n",
              "      fill: #D2E3FC;\n",
              "    }\n",
              "\n",
              "    [theme=dark] .colab-df-convert:hover {\n",
              "      background-color: #434B5C;\n",
              "      box-shadow: 0px 1px 3px 1px rgba(0, 0, 0, 0.15);\n",
              "      filter: drop-shadow(0px 1px 2px rgba(0, 0, 0, 0.3));\n",
              "      fill: #FFFFFF;\n",
              "    }\n",
              "  </style>\n",
              "\n",
              "    <script>\n",
              "      const buttonEl =\n",
              "        document.querySelector('#df-6911af54-40e2-4f1f-9a1a-6cf784765c3a button.colab-df-convert');\n",
              "      buttonEl.style.display =\n",
              "        google.colab.kernel.accessAllowed ? 'block' : 'none';\n",
              "\n",
              "      async function convertToInteractive(key) {\n",
              "        const element = document.querySelector('#df-6911af54-40e2-4f1f-9a1a-6cf784765c3a');\n",
              "        const dataTable =\n",
              "          await google.colab.kernel.invokeFunction('convertToInteractive',\n",
              "                                                    [key], {});\n",
              "        if (!dataTable) return;\n",
              "\n",
              "        const docLinkHtml = 'Like what you see? Visit the ' +\n",
              "          '<a target=\"_blank\" href=https://colab.research.google.com/notebooks/data_table.ipynb>data table notebook</a>'\n",
              "          + ' to learn more about interactive tables.';\n",
              "        element.innerHTML = '';\n",
              "        dataTable['output_type'] = 'display_data';\n",
              "        await google.colab.output.renderOutput(dataTable, element);\n",
              "        const docLink = document.createElement('div');\n",
              "        docLink.innerHTML = docLinkHtml;\n",
              "        element.appendChild(docLink);\n",
              "      }\n",
              "    </script>\n",
              "  </div>\n",
              "\n",
              "\n",
              "  <div id=\"id_d20618c4-7ec5-4f84-9fc1-b08e772c8c10\">\n",
              "    <style>\n",
              "      .colab-df-generate {\n",
              "        background-color: #E8F0FE;\n",
              "        border: none;\n",
              "        border-radius: 50%;\n",
              "        cursor: pointer;\n",
              "        display: none;\n",
              "        fill: #1967D2;\n",
              "        height: 32px;\n",
              "        padding: 0 0 0 0;\n",
              "        width: 32px;\n",
              "      }\n",
              "\n",
              "      .colab-df-generate:hover {\n",
              "        background-color: #E2EBFA;\n",
              "        box-shadow: 0px 1px 2px rgba(60, 64, 67, 0.3), 0px 1px 3px 1px rgba(60, 64, 67, 0.15);\n",
              "        fill: #174EA6;\n",
              "      }\n",
              "\n",
              "      [theme=dark] .colab-df-generate {\n",
              "        background-color: #3B4455;\n",
              "        fill: #D2E3FC;\n",
              "      }\n",
              "\n",
              "      [theme=dark] .colab-df-generate:hover {\n",
              "        background-color: #434B5C;\n",
              "        box-shadow: 0px 1px 3px 1px rgba(0, 0, 0, 0.15);\n",
              "        filter: drop-shadow(0px 1px 2px rgba(0, 0, 0, 0.3));\n",
              "        fill: #FFFFFF;\n",
              "      }\n",
              "    </style>\n",
              "    <button class=\"colab-df-generate\" onclick=\"generateWithVariable('SGres')\"\n",
              "            title=\"Generate code using this dataframe.\"\n",
              "            style=\"display:none;\">\n",
              "\n",
              "  <svg xmlns=\"http://www.w3.org/2000/svg\" height=\"24px\"viewBox=\"0 0 24 24\"\n",
              "       width=\"24px\">\n",
              "    <path d=\"M7,19H8.4L18.45,9,17,7.55,7,17.6ZM5,21V16.75L18.45,3.32a2,2,0,0,1,2.83,0l1.4,1.43a1.91,1.91,0,0,1,.58,1.4,1.91,1.91,0,0,1-.58,1.4L9.25,21ZM18.45,9,17,7.55Zm-12,3A5.31,5.31,0,0,0,4.9,8.1,5.31,5.31,0,0,0,1,6.5,5.31,5.31,0,0,0,4.9,4.9,5.31,5.31,0,0,0,6.5,1,5.31,5.31,0,0,0,8.1,4.9,5.31,5.31,0,0,0,12,6.5,5.46,5.46,0,0,0,6.5,12Z\"/>\n",
              "  </svg>\n",
              "    </button>\n",
              "    <script>\n",
              "      (() => {\n",
              "      const buttonEl =\n",
              "        document.querySelector('#id_d20618c4-7ec5-4f84-9fc1-b08e772c8c10 button.colab-df-generate');\n",
              "      buttonEl.style.display =\n",
              "        google.colab.kernel.accessAllowed ? 'block' : 'none';\n",
              "\n",
              "      buttonEl.onclick = () => {\n",
              "        google.colab.notebook.generateWithVariable('SGres');\n",
              "      }\n",
              "      })();\n",
              "    </script>\n",
              "  </div>\n",
              "\n",
              "    </div>\n",
              "  </div>\n"
            ],
            "application/vnd.google.colaboratory.intrinsic+json": {
              "type": "dataframe",
              "variable_name": "SGres",
              "summary": "{\n  \"name\": \"SGres\",\n  \"rows\": 1,\n  \"fields\": [\n    {\n      \"column\": \"SGword2vec.model\",\n      \"properties\": {\n        \"dtype\": \"number\",\n        \"std\": null,\n        \"min\": -0.04,\n        \"max\": -0.04,\n        \"num_unique_values\": 1,\n        \"samples\": [\n          -0.04\n        ],\n        \"semantic_type\": \"\",\n        \"description\": \"\"\n      }\n    }\n  ]\n}"
            }
          },
          "metadata": {},
          "execution_count": 131
        }
      ]
    },
    {
      "cell_type": "code",
      "source": [
        "gloveres"
      ],
      "metadata": {
        "colab": {
          "base_uri": "https://localhost:8080/",
          "height": 112
        },
        "id": "GK1F-sw2rwnf",
        "outputId": "6a3ae844-0ea5-4a62-f251-28764688f1f2"
      },
      "execution_count": 132,
      "outputs": [
        {
          "output_type": "execute_result",
          "data": {
            "text/plain": [
              "model_name                                         glove.model\n",
              "query_name                                                    \n",
              "Diverse and Non-Diverse wrt Negative and Positive        -0.06"
            ],
            "text/html": [
              "\n",
              "  <div id=\"df-e3ca4f5c-07ff-4e7c-a662-5578fae8458a\" class=\"colab-df-container\">\n",
              "    <div>\n",
              "<style scoped>\n",
              "    .dataframe tbody tr th:only-of-type {\n",
              "        vertical-align: middle;\n",
              "    }\n",
              "\n",
              "    .dataframe tbody tr th {\n",
              "        vertical-align: top;\n",
              "    }\n",
              "\n",
              "    .dataframe thead th {\n",
              "        text-align: right;\n",
              "    }\n",
              "</style>\n",
              "<table border=\"1\" class=\"dataframe\">\n",
              "  <thead>\n",
              "    <tr style=\"text-align: right;\">\n",
              "      <th>model_name</th>\n",
              "      <th>glove.model</th>\n",
              "    </tr>\n",
              "    <tr>\n",
              "      <th>query_name</th>\n",
              "      <th></th>\n",
              "    </tr>\n",
              "  </thead>\n",
              "  <tbody>\n",
              "    <tr>\n",
              "      <th>Diverse and Non-Diverse wrt Negative and Positive</th>\n",
              "      <td>-0.06</td>\n",
              "    </tr>\n",
              "  </tbody>\n",
              "</table>\n",
              "</div>\n",
              "    <div class=\"colab-df-buttons\">\n",
              "\n",
              "  <div class=\"colab-df-container\">\n",
              "    <button class=\"colab-df-convert\" onclick=\"convertToInteractive('df-e3ca4f5c-07ff-4e7c-a662-5578fae8458a')\"\n",
              "            title=\"Convert this dataframe to an interactive table.\"\n",
              "            style=\"display:none;\">\n",
              "\n",
              "  <svg xmlns=\"http://www.w3.org/2000/svg\" height=\"24px\" viewBox=\"0 -960 960 960\">\n",
              "    <path d=\"M120-120v-720h720v720H120Zm60-500h600v-160H180v160Zm220 220h160v-160H400v160Zm0 220h160v-160H400v160ZM180-400h160v-160H180v160Zm440 0h160v-160H620v160ZM180-180h160v-160H180v160Zm440 0h160v-160H620v160Z\"/>\n",
              "  </svg>\n",
              "    </button>\n",
              "\n",
              "  <style>\n",
              "    .colab-df-container {\n",
              "      display:flex;\n",
              "      gap: 12px;\n",
              "    }\n",
              "\n",
              "    .colab-df-convert {\n",
              "      background-color: #E8F0FE;\n",
              "      border: none;\n",
              "      border-radius: 50%;\n",
              "      cursor: pointer;\n",
              "      display: none;\n",
              "      fill: #1967D2;\n",
              "      height: 32px;\n",
              "      padding: 0 0 0 0;\n",
              "      width: 32px;\n",
              "    }\n",
              "\n",
              "    .colab-df-convert:hover {\n",
              "      background-color: #E2EBFA;\n",
              "      box-shadow: 0px 1px 2px rgba(60, 64, 67, 0.3), 0px 1px 3px 1px rgba(60, 64, 67, 0.15);\n",
              "      fill: #174EA6;\n",
              "    }\n",
              "\n",
              "    .colab-df-buttons div {\n",
              "      margin-bottom: 4px;\n",
              "    }\n",
              "\n",
              "    [theme=dark] .colab-df-convert {\n",
              "      background-color: #3B4455;\n",
              "      fill: #D2E3FC;\n",
              "    }\n",
              "\n",
              "    [theme=dark] .colab-df-convert:hover {\n",
              "      background-color: #434B5C;\n",
              "      box-shadow: 0px 1px 3px 1px rgba(0, 0, 0, 0.15);\n",
              "      filter: drop-shadow(0px 1px 2px rgba(0, 0, 0, 0.3));\n",
              "      fill: #FFFFFF;\n",
              "    }\n",
              "  </style>\n",
              "\n",
              "    <script>\n",
              "      const buttonEl =\n",
              "        document.querySelector('#df-e3ca4f5c-07ff-4e7c-a662-5578fae8458a button.colab-df-convert');\n",
              "      buttonEl.style.display =\n",
              "        google.colab.kernel.accessAllowed ? 'block' : 'none';\n",
              "\n",
              "      async function convertToInteractive(key) {\n",
              "        const element = document.querySelector('#df-e3ca4f5c-07ff-4e7c-a662-5578fae8458a');\n",
              "        const dataTable =\n",
              "          await google.colab.kernel.invokeFunction('convertToInteractive',\n",
              "                                                    [key], {});\n",
              "        if (!dataTable) return;\n",
              "\n",
              "        const docLinkHtml = 'Like what you see? Visit the ' +\n",
              "          '<a target=\"_blank\" href=https://colab.research.google.com/notebooks/data_table.ipynb>data table notebook</a>'\n",
              "          + ' to learn more about interactive tables.';\n",
              "        element.innerHTML = '';\n",
              "        dataTable['output_type'] = 'display_data';\n",
              "        await google.colab.output.renderOutput(dataTable, element);\n",
              "        const docLink = document.createElement('div');\n",
              "        docLink.innerHTML = docLinkHtml;\n",
              "        element.appendChild(docLink);\n",
              "      }\n",
              "    </script>\n",
              "  </div>\n",
              "\n",
              "\n",
              "  <div id=\"id_f779c57c-8841-4d18-a751-f357e73b92b6\">\n",
              "    <style>\n",
              "      .colab-df-generate {\n",
              "        background-color: #E8F0FE;\n",
              "        border: none;\n",
              "        border-radius: 50%;\n",
              "        cursor: pointer;\n",
              "        display: none;\n",
              "        fill: #1967D2;\n",
              "        height: 32px;\n",
              "        padding: 0 0 0 0;\n",
              "        width: 32px;\n",
              "      }\n",
              "\n",
              "      .colab-df-generate:hover {\n",
              "        background-color: #E2EBFA;\n",
              "        box-shadow: 0px 1px 2px rgba(60, 64, 67, 0.3), 0px 1px 3px 1px rgba(60, 64, 67, 0.15);\n",
              "        fill: #174EA6;\n",
              "      }\n",
              "\n",
              "      [theme=dark] .colab-df-generate {\n",
              "        background-color: #3B4455;\n",
              "        fill: #D2E3FC;\n",
              "      }\n",
              "\n",
              "      [theme=dark] .colab-df-generate:hover {\n",
              "        background-color: #434B5C;\n",
              "        box-shadow: 0px 1px 3px 1px rgba(0, 0, 0, 0.15);\n",
              "        filter: drop-shadow(0px 1px 2px rgba(0, 0, 0, 0.3));\n",
              "        fill: #FFFFFF;\n",
              "      }\n",
              "    </style>\n",
              "    <button class=\"colab-df-generate\" onclick=\"generateWithVariable('gloveres')\"\n",
              "            title=\"Generate code using this dataframe.\"\n",
              "            style=\"display:none;\">\n",
              "\n",
              "  <svg xmlns=\"http://www.w3.org/2000/svg\" height=\"24px\"viewBox=\"0 0 24 24\"\n",
              "       width=\"24px\">\n",
              "    <path d=\"M7,19H8.4L18.45,9,17,7.55,7,17.6ZM5,21V16.75L18.45,3.32a2,2,0,0,1,2.83,0l1.4,1.43a1.91,1.91,0,0,1,.58,1.4,1.91,1.91,0,0,1-.58,1.4L9.25,21ZM18.45,9,17,7.55Zm-12,3A5.31,5.31,0,0,0,4.9,8.1,5.31,5.31,0,0,0,1,6.5,5.31,5.31,0,0,0,4.9,4.9,5.31,5.31,0,0,0,6.5,1,5.31,5.31,0,0,0,8.1,4.9,5.31,5.31,0,0,0,12,6.5,5.46,5.46,0,0,0,6.5,12Z\"/>\n",
              "  </svg>\n",
              "    </button>\n",
              "    <script>\n",
              "      (() => {\n",
              "      const buttonEl =\n",
              "        document.querySelector('#id_f779c57c-8841-4d18-a751-f357e73b92b6 button.colab-df-generate');\n",
              "      buttonEl.style.display =\n",
              "        google.colab.kernel.accessAllowed ? 'block' : 'none';\n",
              "\n",
              "      buttonEl.onclick = () => {\n",
              "        google.colab.notebook.generateWithVariable('gloveres');\n",
              "      }\n",
              "      })();\n",
              "    </script>\n",
              "  </div>\n",
              "\n",
              "    </div>\n",
              "  </div>\n"
            ],
            "application/vnd.google.colaboratory.intrinsic+json": {
              "type": "dataframe",
              "variable_name": "gloveres",
              "summary": "{\n  \"name\": \"gloveres\",\n  \"rows\": 1,\n  \"fields\": [\n    {\n      \"column\": \"glove.model\",\n      \"properties\": {\n        \"dtype\": \"number\",\n        \"std\": null,\n        \"min\": -0.06,\n        \"max\": -0.06,\n        \"num_unique_values\": 1,\n        \"samples\": [\n          -0.06\n        ],\n        \"semantic_type\": \"\",\n        \"description\": \"\"\n      }\n    }\n  ]\n}"
            }
          },
          "metadata": {},
          "execution_count": 132
        }
      ]
    },
    {
      "cell_type": "code",
      "source": [
        "googleres"
      ],
      "metadata": {
        "colab": {
          "base_uri": "https://localhost:8080/",
          "height": 112
        },
        "id": "JlGGAZ1XryRV",
        "outputId": "43e4788c-ecac-4222-e091-2233e52f662c"
      },
      "execution_count": 133,
      "outputs": [
        {
          "output_type": "execute_result",
          "data": {
            "text/plain": [
              "model_name                                         google.model\n",
              "query_name                                                     \n",
              "Diverse and Non-Diverse wrt Negative and Positive          0.03"
            ],
            "text/html": [
              "\n",
              "  <div id=\"df-a1dc6ada-6057-4749-87be-cb5b1b8c2659\" class=\"colab-df-container\">\n",
              "    <div>\n",
              "<style scoped>\n",
              "    .dataframe tbody tr th:only-of-type {\n",
              "        vertical-align: middle;\n",
              "    }\n",
              "\n",
              "    .dataframe tbody tr th {\n",
              "        vertical-align: top;\n",
              "    }\n",
              "\n",
              "    .dataframe thead th {\n",
              "        text-align: right;\n",
              "    }\n",
              "</style>\n",
              "<table border=\"1\" class=\"dataframe\">\n",
              "  <thead>\n",
              "    <tr style=\"text-align: right;\">\n",
              "      <th>model_name</th>\n",
              "      <th>google.model</th>\n",
              "    </tr>\n",
              "    <tr>\n",
              "      <th>query_name</th>\n",
              "      <th></th>\n",
              "    </tr>\n",
              "  </thead>\n",
              "  <tbody>\n",
              "    <tr>\n",
              "      <th>Diverse and Non-Diverse wrt Negative and Positive</th>\n",
              "      <td>0.03</td>\n",
              "    </tr>\n",
              "  </tbody>\n",
              "</table>\n",
              "</div>\n",
              "    <div class=\"colab-df-buttons\">\n",
              "\n",
              "  <div class=\"colab-df-container\">\n",
              "    <button class=\"colab-df-convert\" onclick=\"convertToInteractive('df-a1dc6ada-6057-4749-87be-cb5b1b8c2659')\"\n",
              "            title=\"Convert this dataframe to an interactive table.\"\n",
              "            style=\"display:none;\">\n",
              "\n",
              "  <svg xmlns=\"http://www.w3.org/2000/svg\" height=\"24px\" viewBox=\"0 -960 960 960\">\n",
              "    <path d=\"M120-120v-720h720v720H120Zm60-500h600v-160H180v160Zm220 220h160v-160H400v160Zm0 220h160v-160H400v160ZM180-400h160v-160H180v160Zm440 0h160v-160H620v160ZM180-180h160v-160H180v160Zm440 0h160v-160H620v160Z\"/>\n",
              "  </svg>\n",
              "    </button>\n",
              "\n",
              "  <style>\n",
              "    .colab-df-container {\n",
              "      display:flex;\n",
              "      gap: 12px;\n",
              "    }\n",
              "\n",
              "    .colab-df-convert {\n",
              "      background-color: #E8F0FE;\n",
              "      border: none;\n",
              "      border-radius: 50%;\n",
              "      cursor: pointer;\n",
              "      display: none;\n",
              "      fill: #1967D2;\n",
              "      height: 32px;\n",
              "      padding: 0 0 0 0;\n",
              "      width: 32px;\n",
              "    }\n",
              "\n",
              "    .colab-df-convert:hover {\n",
              "      background-color: #E2EBFA;\n",
              "      box-shadow: 0px 1px 2px rgba(60, 64, 67, 0.3), 0px 1px 3px 1px rgba(60, 64, 67, 0.15);\n",
              "      fill: #174EA6;\n",
              "    }\n",
              "\n",
              "    .colab-df-buttons div {\n",
              "      margin-bottom: 4px;\n",
              "    }\n",
              "\n",
              "    [theme=dark] .colab-df-convert {\n",
              "      background-color: #3B4455;\n",
              "      fill: #D2E3FC;\n",
              "    }\n",
              "\n",
              "    [theme=dark] .colab-df-convert:hover {\n",
              "      background-color: #434B5C;\n",
              "      box-shadow: 0px 1px 3px 1px rgba(0, 0, 0, 0.15);\n",
              "      filter: drop-shadow(0px 1px 2px rgba(0, 0, 0, 0.3));\n",
              "      fill: #FFFFFF;\n",
              "    }\n",
              "  </style>\n",
              "\n",
              "    <script>\n",
              "      const buttonEl =\n",
              "        document.querySelector('#df-a1dc6ada-6057-4749-87be-cb5b1b8c2659 button.colab-df-convert');\n",
              "      buttonEl.style.display =\n",
              "        google.colab.kernel.accessAllowed ? 'block' : 'none';\n",
              "\n",
              "      async function convertToInteractive(key) {\n",
              "        const element = document.querySelector('#df-a1dc6ada-6057-4749-87be-cb5b1b8c2659');\n",
              "        const dataTable =\n",
              "          await google.colab.kernel.invokeFunction('convertToInteractive',\n",
              "                                                    [key], {});\n",
              "        if (!dataTable) return;\n",
              "\n",
              "        const docLinkHtml = 'Like what you see? Visit the ' +\n",
              "          '<a target=\"_blank\" href=https://colab.research.google.com/notebooks/data_table.ipynb>data table notebook</a>'\n",
              "          + ' to learn more about interactive tables.';\n",
              "        element.innerHTML = '';\n",
              "        dataTable['output_type'] = 'display_data';\n",
              "        await google.colab.output.renderOutput(dataTable, element);\n",
              "        const docLink = document.createElement('div');\n",
              "        docLink.innerHTML = docLinkHtml;\n",
              "        element.appendChild(docLink);\n",
              "      }\n",
              "    </script>\n",
              "  </div>\n",
              "\n",
              "\n",
              "  <div id=\"id_ed9f398b-fdeb-4cf4-bac3-fa497fdde3ea\">\n",
              "    <style>\n",
              "      .colab-df-generate {\n",
              "        background-color: #E8F0FE;\n",
              "        border: none;\n",
              "        border-radius: 50%;\n",
              "        cursor: pointer;\n",
              "        display: none;\n",
              "        fill: #1967D2;\n",
              "        height: 32px;\n",
              "        padding: 0 0 0 0;\n",
              "        width: 32px;\n",
              "      }\n",
              "\n",
              "      .colab-df-generate:hover {\n",
              "        background-color: #E2EBFA;\n",
              "        box-shadow: 0px 1px 2px rgba(60, 64, 67, 0.3), 0px 1px 3px 1px rgba(60, 64, 67, 0.15);\n",
              "        fill: #174EA6;\n",
              "      }\n",
              "\n",
              "      [theme=dark] .colab-df-generate {\n",
              "        background-color: #3B4455;\n",
              "        fill: #D2E3FC;\n",
              "      }\n",
              "\n",
              "      [theme=dark] .colab-df-generate:hover {\n",
              "        background-color: #434B5C;\n",
              "        box-shadow: 0px 1px 3px 1px rgba(0, 0, 0, 0.15);\n",
              "        filter: drop-shadow(0px 1px 2px rgba(0, 0, 0, 0.3));\n",
              "        fill: #FFFFFF;\n",
              "      }\n",
              "    </style>\n",
              "    <button class=\"colab-df-generate\" onclick=\"generateWithVariable('googleres')\"\n",
              "            title=\"Generate code using this dataframe.\"\n",
              "            style=\"display:none;\">\n",
              "\n",
              "  <svg xmlns=\"http://www.w3.org/2000/svg\" height=\"24px\"viewBox=\"0 0 24 24\"\n",
              "       width=\"24px\">\n",
              "    <path d=\"M7,19H8.4L18.45,9,17,7.55,7,17.6ZM5,21V16.75L18.45,3.32a2,2,0,0,1,2.83,0l1.4,1.43a1.91,1.91,0,0,1,.58,1.4,1.91,1.91,0,0,1-.58,1.4L9.25,21ZM18.45,9,17,7.55Zm-12,3A5.31,5.31,0,0,0,4.9,8.1,5.31,5.31,0,0,0,1,6.5,5.31,5.31,0,0,0,4.9,4.9,5.31,5.31,0,0,0,6.5,1,5.31,5.31,0,0,0,8.1,4.9,5.31,5.31,0,0,0,12,6.5,5.46,5.46,0,0,0,6.5,12Z\"/>\n",
              "  </svg>\n",
              "    </button>\n",
              "    <script>\n",
              "      (() => {\n",
              "      const buttonEl =\n",
              "        document.querySelector('#id_ed9f398b-fdeb-4cf4-bac3-fa497fdde3ea button.colab-df-generate');\n",
              "      buttonEl.style.display =\n",
              "        google.colab.kernel.accessAllowed ? 'block' : 'none';\n",
              "\n",
              "      buttonEl.onclick = () => {\n",
              "        google.colab.notebook.generateWithVariable('googleres');\n",
              "      }\n",
              "      })();\n",
              "    </script>\n",
              "  </div>\n",
              "\n",
              "    </div>\n",
              "  </div>\n"
            ],
            "application/vnd.google.colaboratory.intrinsic+json": {
              "type": "dataframe",
              "variable_name": "googleres",
              "summary": "{\n  \"name\": \"googleres\",\n  \"rows\": 1,\n  \"fields\": [\n    {\n      \"column\": \"google.model\",\n      \"properties\": {\n        \"dtype\": \"number\",\n        \"std\": null,\n        \"min\": 0.03,\n        \"max\": 0.03,\n        \"num_unique_values\": 1,\n        \"samples\": [\n          0.03\n        ],\n        \"semantic_type\": \"\",\n        \"description\": \"\"\n      }\n    }\n  ]\n}"
            }
          },
          "metadata": {},
          "execution_count": 133
        }
      ]
    },
    {
      "cell_type": "markdown",
      "source": [
        "##Task 2.5: Text Classification"
      ],
      "metadata": {
        "id": "RFecP3Q5p3jv"
      }
    },
    {
      "cell_type": "markdown",
      "source": [
        "###BOW Model"
      ],
      "metadata": {
        "id": "2zOhePTvrF3a"
      }
    },
    {
      "cell_type": "markdown",
      "source": [
        "**Used imdb Dataset from Huggingface and Created Logistic Regression to Classify Positive/Negative Reviews**"
      ],
      "metadata": {
        "id": "4BGZMZNCqTAq"
      }
    },
    {
      "cell_type": "code",
      "source": [
        "# Logistic Regression - BOW\n",
        "imdb = load_dataset(\"imdb\")\n",
        "imdb_train = imdb['train']"
      ],
      "metadata": {
        "id": "Ga8TbWTgwXxx"
      },
      "execution_count": 165,
      "outputs": []
    },
    {
      "cell_type": "code",
      "source": [
        "from sklearn.feature_extraction.text import TfidfVectorizer\n",
        "\n",
        "vectorizer = TfidfVectorizer(input=\"content\", stop_words=\"english\")\n",
        "vectors = vectorizer.fit_transform(imdb_train['text'])\n",
        "vectors"
      ],
      "metadata": {
        "colab": {
          "base_uri": "https://localhost:8080/"
        },
        "id": "dNqObykT9BGE",
        "outputId": "3abcaef5-2851-48d9-b4ee-7dc90f1447f1"
      },
      "execution_count": 166,
      "outputs": [
        {
          "output_type": "execute_result",
          "data": {
            "text/plain": [
              "<25000x74538 sparse matrix of type '<class 'numpy.float64'>'\n",
              "\twith 2241793 stored elements in Compressed Sparse Row format>"
            ]
          },
          "metadata": {},
          "execution_count": 166
        }
      ]
    },
    {
      "cell_type": "code",
      "source": [
        "import random\n",
        "from scipy.special import expit\n",
        "\n",
        "def sgd_for_lr_with_ce(X, y, num_passes=15, learning_rate = 0.1):\n",
        "\n",
        "    num_data_points = X.shape[0]\n",
        "\n",
        "    # Initialize theta -> 0\n",
        "    num_features = X.shape[1]\n",
        "    # set w and b to the correct values\n",
        "    w = np.zeros(num_features)\n",
        "    b = 0\n",
        "\n",
        "    # repeat until done\n",
        "    # how to define \"done\"? let's just make it num passes for now\n",
        "    # we can also do norm of gradient and when it is < epsilon (something tiny)\n",
        "\n",
        "    for current_pass in tqdm(range(num_passes)):\n",
        "\n",
        "        # iterate through entire dataset in random order\n",
        "        order = list(range(num_data_points))\n",
        "        random.shuffle(order)\n",
        "        for i in order:\n",
        "\n",
        "            # compute y-hat for this value of i given y_i and x_i\n",
        "            x_i = X[i].todense()\n",
        "            y_i = y[i]\n",
        "\n",
        "            # need to compute y_hat based on w and b, and x\n",
        "            # sigmoid(w dot x + b)\n",
        "            # use expit for sigmoid\n",
        "\n",
        "            z = np.dot(x_i.squeeze(),w.T) + b\n",
        "            y_hat_i = expit(z)\n",
        "\n",
        "            # for each w (and b), modify by -lr * (y_hat_i - y_i) * x_i\n",
        "            w = w - learning_rate * (y_hat_i - y_i) * x_i\n",
        "            b = b - learning_rate * (y_hat_i - y_i)\n",
        "\n",
        "    # return theta\n",
        "    return w,b\n",
        "\n",
        ""
      ],
      "metadata": {
        "id": "Todh82lV-Bj7"
      },
      "execution_count": 168,
      "outputs": []
    },
    {
      "cell_type": "markdown",
      "source": [
        "Code Help for the Stochastic Gradient Descent provided by Dr. Steve Wilson."
      ],
      "metadata": {
        "id": "MIZkd4agqmJe"
      }
    },
    {
      "cell_type": "code",
      "source": [
        "# Obtained Training Weights and Biases for BOW LR\n",
        "X = vectors\n",
        "y = imdb_train['label']\n",
        "w,b = sgd_for_lr_with_ce(X,y)"
      ],
      "metadata": {
        "colab": {
          "base_uri": "https://localhost:8080/"
        },
        "id": "avVqswb6-gvN",
        "outputId": "af8285f6-433a-4acd-f00c-7e444e09ea70"
      },
      "execution_count": 169,
      "outputs": [
        {
          "output_type": "stream",
          "name": "stderr",
          "text": [
            "100%|██████████| 15/15 [04:26<00:00, 17.75s/it]\n"
          ]
        }
      ]
    },
    {
      "cell_type": "code",
      "source": [
        "def predict_y_lr(w,b,X,threshold=0.5):\n",
        "  y_hat = X.dot(w.reshape(-1,1)) + b\n",
        "  preds = np.where(y_hat>threshold, 1, 0)\n",
        "\n",
        "  return preds"
      ],
      "metadata": {
        "id": "izzPhzYVCyFn"
      },
      "execution_count": 170,
      "outputs": []
    },
    {
      "cell_type": "markdown",
      "source": [],
      "metadata": {
        "id": "mEIf2XvQqyOZ"
      }
    },
    {
      "cell_type": "markdown",
      "source": [
        "**Trained BOW LR and Delivered Classification Report on Training Data**"
      ],
      "metadata": {
        "id": "JOo4VB8mq2RA"
      }
    },
    {
      "cell_type": "code",
      "source": [
        "from sklearn.metrics import classification_report\n",
        "\n",
        "training_preds = predict_y_lr(w,b,X)\n",
        "print(classification_report(y, training_preds))"
      ],
      "metadata": {
        "colab": {
          "base_uri": "https://localhost:8080/"
        },
        "id": "x3N6xXNhDFNL",
        "outputId": "7ba6b6db-e7f9-4b3b-ffaa-102f8db885a8"
      },
      "execution_count": 171,
      "outputs": [
        {
          "output_type": "stream",
          "name": "stdout",
          "text": [
            "              precision    recall  f1-score   support\n",
            "\n",
            "           0       0.90      0.97      0.94     12500\n",
            "           1       0.97      0.90      0.93     12500\n",
            "\n",
            "    accuracy                           0.94     25000\n",
            "   macro avg       0.94      0.94      0.94     25000\n",
            "weighted avg       0.94      0.94      0.94     25000\n",
            "\n"
          ]
        }
      ]
    },
    {
      "cell_type": "markdown",
      "source": [
        "**Delivered Classification Report on Testing Data**"
      ],
      "metadata": {
        "id": "dHvFgcoGq86j"
      }
    },
    {
      "cell_type": "code",
      "source": [
        "X_test = imdb['test']['text']\n",
        "y_test = imdb['test']['label']\n",
        "\n",
        "X_test_transformed = vectorizer.transform(X_test)\n",
        "testing_preds = predict_y_lr(w,b,X_test_transformed)\n",
        "print(classification_report(y, testing_preds))"
      ],
      "metadata": {
        "colab": {
          "base_uri": "https://localhost:8080/"
        },
        "id": "yQEIY9SOFjid",
        "outputId": "a5027e82-4519-4de9-b479-3c7e90c6faa2"
      },
      "execution_count": 172,
      "outputs": [
        {
          "output_type": "stream",
          "name": "stdout",
          "text": [
            "              precision    recall  f1-score   support\n",
            "\n",
            "           0       0.82      0.94      0.87     12500\n",
            "           1       0.93      0.79      0.85     12500\n",
            "\n",
            "    accuracy                           0.86     25000\n",
            "   macro avg       0.87      0.86      0.86     25000\n",
            "weighted avg       0.87      0.86      0.86     25000\n",
            "\n"
          ]
        }
      ]
    },
    {
      "cell_type": "markdown",
      "source": [
        "###CBOW Model"
      ],
      "metadata": {
        "id": "ZjQZ3DWYrDQw"
      }
    },
    {
      "cell_type": "code",
      "source": [
        "# Logistic Regression Continuous Bag of Words\n",
        "\n",
        "# Creates a matrix, X, that returns the averaged word embedding vectors for words found in each document and averaged for that document on index\n",
        "def determine_features(data, word_vectors):\n",
        "    row_vectors = []\n",
        "    for each_rating in tqdm(data):\n",
        "        tmp_row_vec = []\n",
        "        rating_tokens = tokenize(each_rating)\n",
        "        rating_tokens = sum(rating_tokens, [])\n",
        "        for tok in rating_tokens:\n",
        "            if tok in word_vectors:\n",
        "                tmp_row_vec.append(word_vectors[tok])\n",
        "        array = np.array(tmp_row_vec)\n",
        "        row_vectors.append(np.mean(array, axis=0))\n",
        "\n",
        "    X = np.matrix(row_vectors)\n",
        "    return X\n",
        ""
      ],
      "metadata": {
        "id": "SgJGhJo7Gwqm"
      },
      "execution_count": 214,
      "outputs": []
    },
    {
      "cell_type": "code",
      "source": [
        "from scipy.sparse import csr_matrix\n",
        "\n",
        "Xtrain = determine_features(imdb_train['text'], CBOWmodel.wv)\n",
        "# SGD function wants sparse matrix\n",
        "Xtrain_ = csr_matrix(Xtrain)\n",
        "ytrain = imdb_train['label']\n",
        "w,b = sgd_for_lr_with_ce(Xtrain_,ytrain)"
      ],
      "metadata": {
        "colab": {
          "base_uri": "https://localhost:8080/"
        },
        "id": "Uxt5KnKbgxVg",
        "outputId": "5adabd9d-524c-4e53-87f8-d8f6591827dc"
      },
      "execution_count": 217,
      "outputs": [
        {
          "output_type": "stream",
          "name": "stderr",
          "text": [
            "100%|██████████| 25000/25000 [01:33<00:00, 267.92it/s]\n"
          ]
        }
      ]
    },
    {
      "cell_type": "markdown",
      "source": [
        "**Trained CBOW LR and Delivered Classification Report on Training Data**"
      ],
      "metadata": {
        "id": "mHOnXBFargup"
      }
    },
    {
      "cell_type": "code",
      "source": [
        "training_preds = predict_y_lr(w,b,Xtrain_)\n",
        "print(classification_report(ytrain, training_preds))"
      ],
      "metadata": {
        "colab": {
          "base_uri": "https://localhost:8080/"
        },
        "id": "rdwBM8O-j78o",
        "outputId": "db5d3cc8-b7c4-428b-88a8-d130e26a88a7"
      },
      "execution_count": 221,
      "outputs": [
        {
          "output_type": "stream",
          "name": "stdout",
          "text": [
            "              precision    recall  f1-score   support\n",
            "\n",
            "           0       0.71      0.91      0.80     12500\n",
            "           1       0.88      0.62      0.73     12500\n",
            "\n",
            "    accuracy                           0.77     25000\n",
            "   macro avg       0.79      0.77      0.76     25000\n",
            "weighted avg       0.79      0.77      0.76     25000\n",
            "\n"
          ]
        }
      ]
    },
    {
      "cell_type": "code",
      "source": [
        "Xtest = determine_features(imdb['test']['text'], CBOWmodel.wv)\n",
        "Xtest_ = csr_matrix(Xtest)\n",
        "ytest = imdb['test']['label']\n",
        "\n"
      ],
      "metadata": {
        "id": "pxlIwu26mh0x"
      },
      "execution_count": null,
      "outputs": []
    },
    {
      "cell_type": "markdown",
      "source": [
        "**Delivered Classification Report on Training Data**"
      ],
      "metadata": {
        "id": "SN3T-wLCrgSi"
      }
    },
    {
      "cell_type": "code",
      "source": [
        "testing_preds = predict_y_lr(w,b,Xtest_)\n",
        "print(classification_report(ytrain, testing_preds))"
      ],
      "metadata": {
        "colab": {
          "base_uri": "https://localhost:8080/"
        },
        "id": "oM3AKKk_npu5",
        "outputId": "c932560c-7157-4428-d376-c52322c9b1a2"
      },
      "execution_count": 223,
      "outputs": [
        {
          "output_type": "stream",
          "name": "stdout",
          "text": [
            "              precision    recall  f1-score   support\n",
            "\n",
            "           0       0.70      0.91      0.79     12500\n",
            "           1       0.87      0.62      0.72     12500\n",
            "\n",
            "    accuracy                           0.76     25000\n",
            "   macro avg       0.79      0.76      0.76     25000\n",
            "weighted avg       0.79      0.76      0.76     25000\n",
            "\n"
          ]
        }
      ]
    }
  ]
}